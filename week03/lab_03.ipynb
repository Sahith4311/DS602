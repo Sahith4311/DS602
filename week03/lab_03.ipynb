{
  "cells": [
    {
      "cell_type": "markdown",
      "id": "57771d6f",
      "metadata": {
        "id": "57771d6f"
      },
      "source": [
        "# Week 3 Lab"
      ]
    },
    {
      "cell_type": "markdown",
      "id": "ccb647fd",
      "metadata": {
        "id": "ccb647fd"
      },
      "source": [
        "## Questions:\n",
        "- Differences between supervised and unsupervised learning?  \n",
        "- Differences between classification and regression?  \n",
        "- Classification and regression are the only types of supervised learning? "
      ]
    },
    {
      "cell_type": "markdown",
      "id": "03e12e71",
      "metadata": {
        "id": "03e12e71"
      },
      "source": []
    },
    {
      "cell_type": "code",
      "execution_count": null,
      "id": "76611fb3",
      "metadata": {
        "id": "76611fb3"
      },
      "outputs": [],
      "source": []
    }
  ],
  "metadata": {
    "kernelspec": {
      "display_name": "Python 3",
      "language": "python",
      "name": "python3"
    },
    "language_info": {
      "codemirror_mode": {
        "name": "ipython",
        "version": 3
      },
      "file_extension": ".py",
      "mimetype": "text/x-python",
      "name": "python",
      "nbconvert_exporter": "python",
      "pygments_lexer": "ipython3",
      "version": "3.8.8"
    },
    "toc": {
      "base_numbering": 1,
      "nav_menu": {},
      "number_sections": true,
      "sideBar": true,
      "skip_h1_title": false,
      "title_cell": "Table of Contents",
      "title_sidebar": "Contents",
      "toc_cell": false,
      "toc_position": {},
      "toc_section_display": true,
      "toc_window_display": false
    },
    "colab": {
      "provenance": []
    }
  },
  "nbformat": 4,
  "nbformat_minor": 5
}