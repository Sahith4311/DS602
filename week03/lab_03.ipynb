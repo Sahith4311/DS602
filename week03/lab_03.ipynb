{
 "cells": [
  {
   "cell_type": "markdown",
   "id": "57771d6f",
   "metadata": {
    "id": "57771d6f"
   },
   "source": [
    "# Week 3 Lab"
   ]
  },
  {
   "cell_type": "markdown",
   "id": "ccb647fd",
   "metadata": {
    "id": "ccb647fd"
   },
   "source": [
    "## Questions:\n",
    "- Differences between supervised and unsupervised learning?  \n",
    "- Differences between classification and regression?  \n",
    "- Classification and regression are the only types of supervised learning? "
   ]
  },
  {
   "cell_type": "markdown",
   "id": "03e12e71",
   "metadata": {
    "id": "03e12e71"
   },
   "source": []
  },
  {
   "cell_type": "markdown",
   "id": "6515bf0d",
   "metadata": {
    "id": "76611fb3"
   },
   "source": [
    "# Differences between supervised and unsupervised learning?\n",
    "\n",
    "Supervised  Learning : \n",
    "\n",
    "To prepare the prediction program. Most of the time, the algorithm's predicted outcome matches what people would anticipate.\n",
    "In supervised learning, labelled samples are used.\n",
    "Data types are recognized.\n",
    "In supervised learning, the data must be properly labeled through human intervention.\n",
    "Supervised learning appears to be a long way from true artificial intelligence because of the notable quantity of human involvement.\n",
    "It is easy and reasonably priced.\n",
    "The training of the program occurs offline in supervised learning.\n",
    "It produces incredibly precise results. Only if the experts labeling the datasets did not mark them properly could the accuracy be compromised.\n",
    "\n",
    "Unsupervised Learning:\n",
    "\n",
    "To teach the program how to mine the vast amount of unclassified data for insights. Unsupervised learning makes use of unclassified material. Since the model data is unlabeled and uncategorized, it is unclear how many classes there are. The algorithm now handles both the input and the output of data analysis due to unsupervised learning, with human involvement only needed for data validation. Unsupervised learning and artificial intelligence are very similar in that unsupervised learning requires less human involvement. It takes longer, is more difficult, and uses more resources. The training of the methods occurs in real time when using unsupervised learning. The accuracy of unsupervised learning is lower."
   ]
  },
  {
   "cell_type": "markdown",
   "id": "3ace9670",
   "metadata": {},
   "source": [
    "# Differences between classification and regression?\n",
    "\n",
    "The main distinction between classification and regression is that while classification aids in the prediction of finite class labels, regression assists in the prediction of continuous quantities. The two categories of machine learning systems also have some similarities.\n",
    "\n",
    "An integer-based discrete number can be predicted using a regression algorithm.\n",
    "A continuous value can be predicted by a classification algorithm if it takes the shape of a class label probability."
   ]
  },
  {
   "cell_type": "markdown",
   "id": "3e51c829",
   "metadata": {},
   "source": [
    "# Classification and regression are the only types of supervised learning?\n",
    "\n",
    "There are other types of supervised learning also they are:\n",
    "\n",
    "Neural networks\n",
    "\n",
    "Random forest\n",
    "\n",
    "Naive Bayes"
   ]
  },
  {
   "cell_type": "markdown",
   "id": "77f603b9",
   "metadata": {},
   "source": [
    "References:\n",
    "   \n",
    "   https://emeritus.org/in/learn/types-of-supervised-learning/\n",
    "   \n",
    "   https://www.springboard.com/blog/data-science/regression-vs-classification/#:~:text=The%20most%20significant%20difference%20between,types%20of%20machine%20learning%20algorithms.\n",
    "   \n",
    "   https://www.tutorialspoint.com/difference-between-supervised-and-unsupervised-learning\n",
    "    \n",
    "    "
   ]
  },
  {
   "cell_type": "code",
   "execution_count": null,
   "id": "f75e238f",
   "metadata": {},
   "outputs": [],
   "source": []
  }
 ],
 "metadata": {
  "colab": {
   "provenance": []
  },
  "kernelspec": {
   "display_name": "Python 3 (ipykernel)",
   "language": "python",
   "name": "python3"
  },
  "language_info": {
   "codemirror_mode": {
    "name": "ipython",
    "version": 3
   },
   "file_extension": ".py",
   "mimetype": "text/x-python",
   "name": "python",
   "nbconvert_exporter": "python",
   "pygments_lexer": "ipython3",
   "version": "3.9.12"
  },
  "toc": {
   "base_numbering": 1,
   "nav_menu": {},
   "number_sections": true,
   "sideBar": true,
   "skip_h1_title": false,
   "title_cell": "Table of Contents",
   "title_sidebar": "Contents",
   "toc_cell": false,
   "toc_position": {},
   "toc_section_display": true,
   "toc_window_display": false
  }
 },
 "nbformat": 4,
 "nbformat_minor": 5
}
