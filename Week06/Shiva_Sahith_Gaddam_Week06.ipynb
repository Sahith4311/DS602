{
  "cells": [
    {
      "cell_type": "markdown",
      "metadata": {
        "id": "Rv6p2PC6yfPW"
      },
      "source": [
        "# Classifier Evaluation Assignment\n",
        "\n",
        "- Complete this Jupyter Notebook.  \n",
        "- Execute the initial cells and answer the numbered questions.  \n",
        "- Don't import other libraries."
      ]
    },
    {
      "cell_type": "code",
      "execution_count": 10,
      "metadata": {
        "id": "rXJF7a47yfPX",
        "outputId": "fe8e7b33-6f99-46f0-99c5-914f70654715",
        "colab": {
          "base_uri": "https://localhost:8080/",
          "height": 206
        }
      },
      "outputs": [
        {
          "output_type": "execute_result",
          "data": {
            "text/plain": [
              "   actual      prob\n",
              "0     0.0  0.380052\n",
              "1     1.0  0.827923\n",
              "2     1.0  0.929093\n",
              "3     1.0  0.472508\n",
              "4     1.0  0.906988"
            ],
            "text/html": [
              "\n",
              "  <div id=\"df-6c5e7a36-3108-4671-89e3-da13aa7734c2\">\n",
              "    <div class=\"colab-df-container\">\n",
              "      <div>\n",
              "<style scoped>\n",
              "    .dataframe tbody tr th:only-of-type {\n",
              "        vertical-align: middle;\n",
              "    }\n",
              "\n",
              "    .dataframe tbody tr th {\n",
              "        vertical-align: top;\n",
              "    }\n",
              "\n",
              "    .dataframe thead th {\n",
              "        text-align: right;\n",
              "    }\n",
              "</style>\n",
              "<table border=\"1\" class=\"dataframe\">\n",
              "  <thead>\n",
              "    <tr style=\"text-align: right;\">\n",
              "      <th></th>\n",
              "      <th>actual</th>\n",
              "      <th>prob</th>\n",
              "    </tr>\n",
              "  </thead>\n",
              "  <tbody>\n",
              "    <tr>\n",
              "      <th>0</th>\n",
              "      <td>0.0</td>\n",
              "      <td>0.380052</td>\n",
              "    </tr>\n",
              "    <tr>\n",
              "      <th>1</th>\n",
              "      <td>1.0</td>\n",
              "      <td>0.827923</td>\n",
              "    </tr>\n",
              "    <tr>\n",
              "      <th>2</th>\n",
              "      <td>1.0</td>\n",
              "      <td>0.929093</td>\n",
              "    </tr>\n",
              "    <tr>\n",
              "      <th>3</th>\n",
              "      <td>1.0</td>\n",
              "      <td>0.472508</td>\n",
              "    </tr>\n",
              "    <tr>\n",
              "      <th>4</th>\n",
              "      <td>1.0</td>\n",
              "      <td>0.906988</td>\n",
              "    </tr>\n",
              "  </tbody>\n",
              "</table>\n",
              "</div>\n",
              "      <button class=\"colab-df-convert\" onclick=\"convertToInteractive('df-6c5e7a36-3108-4671-89e3-da13aa7734c2')\"\n",
              "              title=\"Convert this dataframe to an interactive table.\"\n",
              "              style=\"display:none;\">\n",
              "        \n",
              "  <svg xmlns=\"http://www.w3.org/2000/svg\" height=\"24px\"viewBox=\"0 0 24 24\"\n",
              "       width=\"24px\">\n",
              "    <path d=\"M0 0h24v24H0V0z\" fill=\"none\"/>\n",
              "    <path d=\"M18.56 5.44l.94 2.06.94-2.06 2.06-.94-2.06-.94-.94-2.06-.94 2.06-2.06.94zm-11 1L8.5 8.5l.94-2.06 2.06-.94-2.06-.94L8.5 2.5l-.94 2.06-2.06.94zm10 10l.94 2.06.94-2.06 2.06-.94-2.06-.94-.94-2.06-.94 2.06-2.06.94z\"/><path d=\"M17.41 7.96l-1.37-1.37c-.4-.4-.92-.59-1.43-.59-.52 0-1.04.2-1.43.59L10.3 9.45l-7.72 7.72c-.78.78-.78 2.05 0 2.83L4 21.41c.39.39.9.59 1.41.59.51 0 1.02-.2 1.41-.59l7.78-7.78 2.81-2.81c.8-.78.8-2.07 0-2.86zM5.41 20L4 18.59l7.72-7.72 1.47 1.35L5.41 20z\"/>\n",
              "  </svg>\n",
              "      </button>\n",
              "      \n",
              "  <style>\n",
              "    .colab-df-container {\n",
              "      display:flex;\n",
              "      flex-wrap:wrap;\n",
              "      gap: 12px;\n",
              "    }\n",
              "\n",
              "    .colab-df-convert {\n",
              "      background-color: #E8F0FE;\n",
              "      border: none;\n",
              "      border-radius: 50%;\n",
              "      cursor: pointer;\n",
              "      display: none;\n",
              "      fill: #1967D2;\n",
              "      height: 32px;\n",
              "      padding: 0 0 0 0;\n",
              "      width: 32px;\n",
              "    }\n",
              "\n",
              "    .colab-df-convert:hover {\n",
              "      background-color: #E2EBFA;\n",
              "      box-shadow: 0px 1px 2px rgba(60, 64, 67, 0.3), 0px 1px 3px 1px rgba(60, 64, 67, 0.15);\n",
              "      fill: #174EA6;\n",
              "    }\n",
              "\n",
              "    [theme=dark] .colab-df-convert {\n",
              "      background-color: #3B4455;\n",
              "      fill: #D2E3FC;\n",
              "    }\n",
              "\n",
              "    [theme=dark] .colab-df-convert:hover {\n",
              "      background-color: #434B5C;\n",
              "      box-shadow: 0px 1px 3px 1px rgba(0, 0, 0, 0.15);\n",
              "      filter: drop-shadow(0px 1px 2px rgba(0, 0, 0, 0.3));\n",
              "      fill: #FFFFFF;\n",
              "    }\n",
              "  </style>\n",
              "\n",
              "      <script>\n",
              "        const buttonEl =\n",
              "          document.querySelector('#df-6c5e7a36-3108-4671-89e3-da13aa7734c2 button.colab-df-convert');\n",
              "        buttonEl.style.display =\n",
              "          google.colab.kernel.accessAllowed ? 'block' : 'none';\n",
              "\n",
              "        async function convertToInteractive(key) {\n",
              "          const element = document.querySelector('#df-6c5e7a36-3108-4671-89e3-da13aa7734c2');\n",
              "          const dataTable =\n",
              "            await google.colab.kernel.invokeFunction('convertToInteractive',\n",
              "                                                     [key], {});\n",
              "          if (!dataTable) return;\n",
              "\n",
              "          const docLinkHtml = 'Like what you see? Visit the ' +\n",
              "            '<a target=\"_blank\" href=https://colab.research.google.com/notebooks/data_table.ipynb>data table notebook</a>'\n",
              "            + ' to learn more about interactive tables.';\n",
              "          element.innerHTML = '';\n",
              "          dataTable['output_type'] = 'display_data';\n",
              "          await google.colab.output.renderOutput(dataTable, element);\n",
              "          const docLink = document.createElement('div');\n",
              "          docLink.innerHTML = docLinkHtml;\n",
              "          element.appendChild(docLink);\n",
              "        }\n",
              "      </script>\n",
              "    </div>\n",
              "  </div>\n",
              "  "
            ]
          },
          "metadata": {},
          "execution_count": 10
        }
      ],
      "source": [
        "import pandas as pd\n",
        "import numpy as np\n",
        "import matplotlib.pyplot as plt\n",
        "%matplotlib inline\n",
        "\n",
        "results = pd.read_csv('https://raw.githubusercontent.com/msaricaumbc/DS_data/master/ds602/lab-evaluation-data.csv')\n",
        "results.head()"
      ]
    },
    {
      "cell_type": "markdown",
      "metadata": {
        "id": "iOvneQCiyfPZ"
      },
      "source": [
        "## Data Definitions\n",
        "- `actual`: Whether the event was true or not. A value of 1.0 is True and 0.0 is False.  \n",
        "- `prob`: The probability that the event was True. This is estimated from a classification model."
      ]
    },
    {
      "cell_type": "markdown",
      "metadata": {
        "id": "20y_F_xDyfPa"
      },
      "source": [
        "## Question 1\n",
        "- Determine the distribution of the actual event.\n",
        "- Would you be concerned about bias due to imbalance?"
      ]
    },
    {
      "cell_type": "code",
      "execution_count": 13,
      "metadata": {
        "id": "A88Y87BSyfPa",
        "colab": {
          "base_uri": "https://localhost:8080/"
        },
        "outputId": "e530f1f0-1e35-43ea-9fa5-2c5b3964a368"
      },
      "outputs": [
        {
          "output_type": "stream",
          "name": "stdout",
          "text": [
            "1.0    3000\n",
            "0.0    2000\n",
            "Name: actual, dtype: int64\n"
          ]
        }
      ],
      "source": [
        "# insert code here\n",
        "act = results['actual'].value_counts()\n",
        "print(act)"
      ]
    },
    {
      "cell_type": "markdown",
      "metadata": {
        "id": "gPY0doSNyfPa"
      },
      "source": [
        "Here, there is a little imbalance due to the data's 3:2 ratio, which causes an unbalanced amount of cases in the training dataset for each class label. Not much is out of whack. Model may be biased towards the majority class in this dataset, which is the true class, but the likelihood of bias is quite low because the imbalance is not very severe."
      ]
    },
    {
      "cell_type": "markdown",
      "metadata": {
        "id": "XowaUJ3-yfPa"
      },
      "source": [
        "## Question 2\n",
        "- Create a histogram that shows the distribution of the probabilities for the True and False classes.  \n",
        "- Describe what you observe."
      ]
    },
    {
      "cell_type": "code",
      "execution_count": 15,
      "metadata": {
        "id": "cE6YO_0WyfPb",
        "colab": {
          "base_uri": "https://localhost:8080/",
          "height": 279
        },
        "outputId": "2c44ef4e-c05e-4c57-bfe8-a39708df787b"
      },
      "outputs": [
        {
          "output_type": "display_data",
          "data": {
            "text/plain": [
              "<Figure size 432x288 with 1 Axes>"
            ],
            "image/png": "[encoded data removed]"
          },
          "metadata": {
            "needs_background": "light"
          }
        }
      ],
      "source": [
        "# insert code here\n",
        "td = results[results['actual'] == 1.0]\n",
        "fd = results[results['actual'] == 0.0]\n",
        "plt.hist(td['prob'], bins=10, alpha=1, label='True')\n",
        "plt.hist(fd['prob'], bins=10, alpha=1, label='False')\n",
        "plt.xlabel('PROBABILITY')\n",
        "plt.ylabel('FREQUENCY')\n",
        "plt.legend(loc='upper left')\n",
        "plt.show()"
      ]
    },
    {
      "cell_type": "markdown",
      "metadata": {
        "id": "nMTptQ0RyfPb"
      },
      "source": [
        "The histogram illustrates the distribution of predicted probabilities for the True and False classes, plotted separately. The probabilities for the False class are mainly concentrated around 0.2-0.4, with a few instances having probabilities close to 0 or 0.8. For the True class, the probabilities are also mainly concentrated around 0.8, but there are fewer instances with probabilities close to 0.2 .\n",
        "\n",
        "When we compare the two distributions, we observe that the distribution of probabilities for the True class is slightly shifted to the right compared to the False class. This shift indicates that the classification model is more confident in its predictions for the True class than the False class. However, there is still a significant overlap between the two distributions, indicating that the model is not effectively distinguishing between the True and False classes."
      ]
    },
    {
      "cell_type": "markdown",
      "metadata": {
        "id": "WFn3SwfgyfPb"
      },
      "source": [
        "## Question 3\n",
        "- Create a simple confusion matrix. Use `0.5` as the threshold for whether an observation should be considered True or False.  \n",
        "- Comment on what you observe."
      ]
    },
    {
      "cell_type": "code",
      "source": [
        "predicted = (results['prob'] >= 0.5).astype(int)\n",
        "confusion_matrix = pd.crosstab(results['actual'], predicted, rownames=['Actual'], colnames=['Predicted'])\n",
        "print(confusion_matrix)"
      ],
      "metadata": {
        "colab": {
          "base_uri": "https://localhost:8080/"
        },
        "id": "H8HuHB6irh7u",
        "outputId": "10d6a0a0-9410-486d-85c5-3231f2c14e07"
      },
      "execution_count": 6,
      "outputs": [
        {
          "output_type": "stream",
          "name": "stdout",
          "text": [
            "Predicted     0     1\n",
            "Actual               \n",
            "0.0        1790   210\n",
            "1.0         377  2623\n"
          ]
        }
      ]
    },
    {
      "cell_type": "markdown",
      "source": [
        "Reference:https://stackoverflow.com/questions/59192392/crosstab-and-confusion-matrix-results-disagreement-in-python"
      ],
      "metadata": {
        "id": "HKroSUiXw9uy"
      }
    },
    {
      "cell_type": "markdown",
      "source": [
        "The confusion matrix reveals that the classification model accurately predicted 1790 observations as False and 2623 observations as True. However, it misclassified 210 False observations as True, resulting in False Positives, and 377 True observations as False, resulting in False Negatives. Therefore, the model's performance is not perfect and could be further evaluated using additional metrics that are more robust to class imbalance. The model is performing little bit better."
      ],
      "metadata": {
        "id": "PiXKCeBssG2t"
      }
    },
    {
      "cell_type": "markdown",
      "metadata": {
        "id": "q2zwM6vPyfPc"
      },
      "source": [
        "## Question 4\n",
        "- Calculate the accuracy, precision, and recall `without` using any pre-built functions.\n",
        "- Which measure would you use if this was your model and why?"
      ]
    },
    {
      "cell_type": "code",
      "execution_count": 17,
      "metadata": {
        "id": "loj1ZvU-yfPc",
        "colab": {
          "base_uri": "https://localhost:8080/"
        },
        "outputId": "4da271e2-ddd4-47ab-8d5f-48b820f4380c"
      },
      "outputs": [
        {
          "output_type": "stream",
          "name": "stdout",
          "text": [
            "Accuracy: 0.8826\n",
            "Precision: 0.9258736321920226\n",
            "Recall: 0.8743333333333333\n"
          ]
        }
      ],
      "source": [
        "\n",
        "True_P = confusion_matrix.iloc[1,1]\n",
        "True_N = confusion_matrix.iloc[0,0]\n",
        "False_P = confusion_matrix.iloc[0,1]\n",
        "False_N = confusion_matrix.iloc[1,0]\n",
        "accuracy = (True_P + True_N) / (True_P + True_N + False_P + False_N)\n",
        "precision = True_P / (True_P + False_P)\n",
        "recall = True_P / (True_P + False_N)\n",
        "print('Accuracy:', accuracy)\n",
        "print('Precision:', precision)\n",
        "print('Recall:', recall)"
      ]
    },
    {
      "cell_type": "markdown",
      "metadata": {
        "id": "5zFafeFDyfPc"
      },
      "source": [
        "precision would be a more appropriate metric than accuracy or recall for evaluating the model's performance.Precision measures the proportion of True predictions that are actually True. In other words, it answers the question: \"Of all the instances the model predicted as True, how many were actually True?\" This metric is directly related to the number of False Positives, as it captures the proportion of predicted True instances that were correctly classified as True. By minimizing False Positives, we can improve precision and reduce the overall cost of misclassifying False Positives."
      ]
    },
    {
      "cell_type": "markdown",
      "metadata": {
        "id": "NwHW395ZyfPc"
      },
      "source": [
        "## Question 5\n",
        "- Construct a ROC curve plot.  \n",
        "- Comment on the fit of the model based on this chart."
      ]
    },
    {
      "cell_type": "code",
      "execution_count": 19,
      "metadata": {
        "id": "vGqmmVz7yfPc",
        "colab": {
          "base_uri": "https://localhost:8080/",
          "height": 295
        },
        "outputId": "a89b011d-c998-4583-b51a-011a6bc10fca"
      },
      "outputs": [
        {
          "output_type": "display_data",
          "data": {
            "text/plain": [
              "<Figure size 432x288 with 1 Axes>"
            ],
            "image/png": "[encoded data removed]"
          },
          "metadata": {
            "needs_background": "light"
          }
        }
      ],
      "source": [
        "# Insert code here\n",
        "thresholds = np.linspace(0, 1, 101)\n",
        "true_pr = []\n",
        "false_pr = []\n",
        "for threshold in thresholds:\n",
        "    true_p = ((results['prob'] >= threshold) & (results['actual'] == 1.0)).sum()\n",
        "    false_n = ((results['prob'] < threshold) & (results['actual'] == 1.0)).sum()\n",
        "    false_p = ((results['prob'] >= threshold) & (results['actual'] == 0.0)).sum()\n",
        "    true_n = ((results['prob'] < threshold) & (results['actual'] == 0.0)).sum()\n",
        "    true_pr.append(true_p / (true_p + false_n))\n",
        "    false_pr.append(false_p / (false_p + true_n))\n",
        "plt.plot(false_pr, true_pr)\n",
        "plt.plot([0, 1], [0, 1], linestyle='-')\n",
        "plt.xlabel('FALSE POSITIVE RATE')\n",
        "plt.ylabel('TRUE POSITIVE RATE')\n",
        "plt.title('ROC')\n",
        "plt.show()"
      ]
    },
    {
      "cell_type": "markdown",
      "source": [
        "References:\n",
        "https://www.geeksforgeeks.org/numpy-linspace-python/"
      ],
      "metadata": {
        "id": "-sHG_KgzyY8-"
      }
    },
    {
      "cell_type": "markdown",
      "metadata": {
        "id": "5aAXInv0yfPc"
      },
      "source": [
        "As we know that Classifiers that give curves closer to the top-left corner imply a better performance, it is obvious that this fit of the model has the best performance. The model is more accurate the closer the curve is to the upper left. Depending on whether we want to raise tpr while lowering fpr or raising both, we can choose the ideal threshold from this plot. To pick the best threshold, tpr and fpr must be carefully balanced."
      ]
    },
    {
      "cell_type": "code",
      "source": [],
      "metadata": {
        "id": "1zWHIayJwE7z"
      },
      "execution_count": null,
      "outputs": []
    }
  ],
  "metadata": {
    "kernelspec": {
      "display_name": "Python 3",
      "language": "python",
      "name": "python3"
    },
    "language_info": {
      "codemirror_mode": {
        "name": "ipython",
        "version": 3
      },
      "file_extension": ".py",
      "mimetype": "text/x-python",
      "name": "python",
      "nbconvert_exporter": "python",
      "pygments_lexer": "ipython3",
      "version": "3.8.8"
    },
    "toc": {
      "base_numbering": 1,
      "nav_menu": {},
      "number_sections": false,
      "sideBar": true,
      "skip_h1_title": false,
      "title_cell": "Table of Contents",
      "title_sidebar": "Contents",
      "toc_cell": false,
      "toc_position": {},
      "toc_section_display": true,
      "toc_window_display": false
    },
    "colab": {
      "provenance": []
    }
  },
  "nbformat": 4,
  "nbformat_minor": 0
}