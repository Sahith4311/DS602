{
  "cells": [
    {
      "cell_type": "markdown",
      "id": "3b173f5f-99db-4919-8870-aa3d8d8ad422",
      "metadata": {
        "id": "3b173f5f-99db-4919-8870-aa3d8d8ad422"
      },
      "source": [
        "# Week11 - Clustering Lab\n",
        "- Create clusters for the following dataset\n",
        "- Choose a meaningful cluster count\n",
        "- Identify potential labels for each cluster"
      ]
    },
    {
      "cell_type": "code",
      "execution_count": 15,
      "id": "b4428c58-ac05-4a73-a24b-0520c14e0f9b",
      "metadata": {
        "colab": {
          "base_uri": "https://localhost:8080/",
          "height": 206
        },
        "id": "b4428c58-ac05-4a73-a24b-0520c14e0f9b",
        "outputId": "3dab5181-ebea-426c-dede-ff59b2b16b03"
      },
      "outputs": [
        {
          "output_type": "execute_result",
          "data": {
            "text/plain": [
              "                  name                                               text\n",
              "0        Digby Morrell  digby morrell born 10 october 1979 is a former...\n",
              "1       Alfred J. Lewy  alfred j lewy aka sandy lewy graduated from un...\n",
              "2        Harpdog Brown  harpdog brown is a singer and harmonica player...\n",
              "3  Franz Rottensteiner  franz rottensteiner born in waidmannsfeld lowe...\n",
              "4               G-Enka  henry krvits born 30 december 1974 in tallinn ..."
            ],
            "text/html": [
              "\n",
              "  <div id=\"df-efd8a304-7ae2-4603-9ea1-3d332a19e9be\">\n",
              "    <div class=\"colab-df-container\">\n",
              "      <div>\n",
              "<style scoped>\n",
              "    .dataframe tbody tr th:only-of-type {\n",
              "        vertical-align: middle;\n",
              "    }\n",
              "\n",
              "    .dataframe tbody tr th {\n",
              "        vertical-align: top;\n",
              "    }\n",
              "\n",
              "    .dataframe thead th {\n",
              "        text-align: right;\n",
              "    }\n",
              "</style>\n",
              "<table border=\"1\" class=\"dataframe\">\n",
              "  <thead>\n",
              "    <tr style=\"text-align: right;\">\n",
              "      <th></th>\n",
              "      <th>name</th>\n",
              "      <th>text</th>\n",
              "    </tr>\n",
              "  </thead>\n",
              "  <tbody>\n",
              "    <tr>\n",
              "      <th>0</th>\n",
              "      <td>Digby Morrell</td>\n",
              "      <td>digby morrell born 10 october 1979 is a former...</td>\n",
              "    </tr>\n",
              "    <tr>\n",
              "      <th>1</th>\n",
              "      <td>Alfred J. Lewy</td>\n",
              "      <td>alfred j lewy aka sandy lewy graduated from un...</td>\n",
              "    </tr>\n",
              "    <tr>\n",
              "      <th>2</th>\n",
              "      <td>Harpdog Brown</td>\n",
              "      <td>harpdog brown is a singer and harmonica player...</td>\n",
              "    </tr>\n",
              "    <tr>\n",
              "      <th>3</th>\n",
              "      <td>Franz Rottensteiner</td>\n",
              "      <td>franz rottensteiner born in waidmannsfeld lowe...</td>\n",
              "    </tr>\n",
              "    <tr>\n",
              "      <th>4</th>\n",
              "      <td>G-Enka</td>\n",
              "      <td>henry krvits born 30 december 1974 in tallinn ...</td>\n",
              "    </tr>\n",
              "  </tbody>\n",
              "</table>\n",
              "</div>\n",
              "      <button class=\"colab-df-convert\" onclick=\"convertToInteractive('df-efd8a304-7ae2-4603-9ea1-3d332a19e9be')\"\n",
              "              title=\"Convert this dataframe to an interactive table.\"\n",
              "              style=\"display:none;\">\n",
              "        \n",
              "  <svg xmlns=\"http://www.w3.org/2000/svg\" height=\"24px\"viewBox=\"0 0 24 24\"\n",
              "       width=\"24px\">\n",
              "    <path d=\"M0 0h24v24H0V0z\" fill=\"none\"/>\n",
              "    <path d=\"M18.56 5.44l.94 2.06.94-2.06 2.06-.94-2.06-.94-.94-2.06-.94 2.06-2.06.94zm-11 1L8.5 8.5l.94-2.06 2.06-.94-2.06-.94L8.5 2.5l-.94 2.06-2.06.94zm10 10l.94 2.06.94-2.06 2.06-.94-2.06-.94-.94-2.06-.94 2.06-2.06.94z\"/><path d=\"M17.41 7.96l-1.37-1.37c-.4-.4-.92-.59-1.43-.59-.52 0-1.04.2-1.43.59L10.3 9.45l-7.72 7.72c-.78.78-.78 2.05 0 2.83L4 21.41c.39.39.9.59 1.41.59.51 0 1.02-.2 1.41-.59l7.78-7.78 2.81-2.81c.8-.78.8-2.07 0-2.86zM5.41 20L4 18.59l7.72-7.72 1.47 1.35L5.41 20z\"/>\n",
              "  </svg>\n",
              "      </button>\n",
              "      \n",
              "  <style>\n",
              "    .colab-df-container {\n",
              "      display:flex;\n",
              "      flex-wrap:wrap;\n",
              "      gap: 12px;\n",
              "    }\n",
              "\n",
              "    .colab-df-convert {\n",
              "      background-color: #E8F0FE;\n",
              "      border: none;\n",
              "      border-radius: 50%;\n",
              "      cursor: pointer;\n",
              "      display: none;\n",
              "      fill: #1967D2;\n",
              "      height: 32px;\n",
              "      padding: 0 0 0 0;\n",
              "      width: 32px;\n",
              "    }\n",
              "\n",
              "    .colab-df-convert:hover {\n",
              "      background-color: #E2EBFA;\n",
              "      box-shadow: 0px 1px 2px rgba(60, 64, 67, 0.3), 0px 1px 3px 1px rgba(60, 64, 67, 0.15);\n",
              "      fill: #174EA6;\n",
              "    }\n",
              "\n",
              "    [theme=dark] .colab-df-convert {\n",
              "      background-color: #3B4455;\n",
              "      fill: #D2E3FC;\n",
              "    }\n",
              "\n",
              "    [theme=dark] .colab-df-convert:hover {\n",
              "      background-color: #434B5C;\n",
              "      box-shadow: 0px 1px 3px 1px rgba(0, 0, 0, 0.15);\n",
              "      filter: drop-shadow(0px 1px 2px rgba(0, 0, 0, 0.3));\n",
              "      fill: #FFFFFF;\n",
              "    }\n",
              "  </style>\n",
              "\n",
              "      <script>\n",
              "        const buttonEl =\n",
              "          document.querySelector('#df-efd8a304-7ae2-4603-9ea1-3d332a19e9be button.colab-df-convert');\n",
              "        buttonEl.style.display =\n",
              "          google.colab.kernel.accessAllowed ? 'block' : 'none';\n",
              "\n",
              "        async function convertToInteractive(key) {\n",
              "          const element = document.querySelector('#df-efd8a304-7ae2-4603-9ea1-3d332a19e9be');\n",
              "          const dataTable =\n",
              "            await google.colab.kernel.invokeFunction('convertToInteractive',\n",
              "                                                     [key], {});\n",
              "          if (!dataTable) return;\n",
              "\n",
              "          const docLinkHtml = 'Like what you see? Visit the ' +\n",
              "            '<a target=\"_blank\" href=https://colab.research.google.com/notebooks/data_table.ipynb>data table notebook</a>'\n",
              "            + ' to learn more about interactive tables.';\n",
              "          element.innerHTML = '';\n",
              "          dataTable['output_type'] = 'display_data';\n",
              "          await google.colab.output.renderOutput(dataTable, element);\n",
              "          const docLink = document.createElement('div');\n",
              "          docLink.innerHTML = docLinkHtml;\n",
              "          element.appendChild(docLink);\n",
              "        }\n",
              "      </script>\n",
              "    </div>\n",
              "  </div>\n",
              "  "
            ]
          },
          "metadata": {},
          "execution_count": 15
        }
      ],
      "source": [
        "from zipfile import ZipFile\n",
        "from io import BytesIO\n",
        "import urllib.request as urllib2\n",
        "import pandas as pd\n",
        "\n",
        "def get_data():\n",
        "    r = urllib2.urlopen(\"https://github.com/msaricaumbc/DS_data/blob/master/ds602/people_wiki.zip?raw=true\").read()\n",
        "    file = ZipFile(BytesIO(r))\n",
        "    people_wiki_csv = file.open(\"people_wiki.csv\")\n",
        "    people = pd.read_csv(people_wiki_csv)\n",
        "    people.drop('URI', inplace=True, axis=1)\n",
        "    return people\n",
        "\n",
        "people = get_data()\n",
        "people.head()"
      ]
    },
    {
      "cell_type": "code",
      "execution_count": 2,
      "id": "cfbd7c87-ccc8-49e6-a1c5-b8dd82f9eb90",
      "metadata": {
        "colab": {
          "base_uri": "https://localhost:8080/",
          "height": 423
        },
        "id": "cfbd7c87-ccc8-49e6-a1c5-b8dd82f9eb90",
        "outputId": "fa023080-a468-4427-cf22-59d1e83f0d7e"
      },
      "outputs": [
        {
          "output_type": "execute_result",
          "data": {
            "text/plain": [
              "                                     name  \\\n",
              "0                           Digby Morrell   \n",
              "1                          Alfred J. Lewy   \n",
              "2                           Harpdog Brown   \n",
              "3                     Franz Rottensteiner   \n",
              "4                                  G-Enka   \n",
              "...                                   ...   \n",
              "42781                  Motoaki Takenouchi   \n",
              "42782  Alan Judge (footballer, born 1960)   \n",
              "42783                        Eduardo Lara   \n",
              "42784                Tatiana Faberg%C3%A9   \n",
              "42785                      Kenneth Thomas   \n",
              "\n",
              "                                                    text  \n",
              "0      digby morrell born 10 october 1979 is a former...  \n",
              "1      alfred j lewy aka sandy lewy graduated from un...  \n",
              "2      harpdog brown is a singer and harmonica player...  \n",
              "3      franz rottensteiner born in waidmannsfeld lowe...  \n",
              "4      henry krvits born 30 december 1974 in tallinn ...  \n",
              "...                                                  ...  \n",
              "42781  motoaki takenouchi born july 8 1967 saitama pr...  \n",
              "42782  alan graham judge born 14 may 1960 is a retire...  \n",
              "42783  eduardo lara lozano born 4 september 1959 in c...  \n",
              "42784  tatiana faberg is an author and faberg scholar...  \n",
              "42785  kenneth thomas born february 24 1938 was chief...  \n",
              "\n",
              "[42786 rows x 2 columns]"
            ],
            "text/html": [
              "\n",
              "  <div id=\"df-0b4a856f-0328-4d54-9e6d-84e82d932411\">\n",
              "    <div class=\"colab-df-container\">\n",
              "      <div>\n",
              "<style scoped>\n",
              "    .dataframe tbody tr th:only-of-type {\n",
              "        vertical-align: middle;\n",
              "    }\n",
              "\n",
              "    .dataframe tbody tr th {\n",
              "        vertical-align: top;\n",
              "    }\n",
              "\n",
              "    .dataframe thead th {\n",
              "        text-align: right;\n",
              "    }\n",
              "</style>\n",
              "<table border=\"1\" class=\"dataframe\">\n",
              "  <thead>\n",
              "    <tr style=\"text-align: right;\">\n",
              "      <th></th>\n",
              "      <th>name</th>\n",
              "      <th>text</th>\n",
              "    </tr>\n",
              "  </thead>\n",
              "  <tbody>\n",
              "    <tr>\n",
              "      <th>0</th>\n",
              "      <td>Digby Morrell</td>\n",
              "      <td>digby morrell born 10 october 1979 is a former...</td>\n",
              "    </tr>\n",
              "    <tr>\n",
              "      <th>1</th>\n",
              "      <td>Alfred J. Lewy</td>\n",
              "      <td>alfred j lewy aka sandy lewy graduated from un...</td>\n",
              "    </tr>\n",
              "    <tr>\n",
              "      <th>2</th>\n",
              "      <td>Harpdog Brown</td>\n",
              "      <td>harpdog brown is a singer and harmonica player...</td>\n",
              "    </tr>\n",
              "    <tr>\n",
              "      <th>3</th>\n",
              "      <td>Franz Rottensteiner</td>\n",
              "      <td>franz rottensteiner born in waidmannsfeld lowe...</td>\n",
              "    </tr>\n",
              "    <tr>\n",
              "      <th>4</th>\n",
              "      <td>G-Enka</td>\n",
              "      <td>henry krvits born 30 december 1974 in tallinn ...</td>\n",
              "    </tr>\n",
              "    <tr>\n",
              "      <th>...</th>\n",
              "      <td>...</td>\n",
              "      <td>...</td>\n",
              "    </tr>\n",
              "    <tr>\n",
              "      <th>42781</th>\n",
              "      <td>Motoaki Takenouchi</td>\n",
              "      <td>motoaki takenouchi born july 8 1967 saitama pr...</td>\n",
              "    </tr>\n",
              "    <tr>\n",
              "      <th>42782</th>\n",
              "      <td>Alan Judge (footballer, born 1960)</td>\n",
              "      <td>alan graham judge born 14 may 1960 is a retire...</td>\n",
              "    </tr>\n",
              "    <tr>\n",
              "      <th>42783</th>\n",
              "      <td>Eduardo Lara</td>\n",
              "      <td>eduardo lara lozano born 4 september 1959 in c...</td>\n",
              "    </tr>\n",
              "    <tr>\n",
              "      <th>42784</th>\n",
              "      <td>Tatiana Faberg%C3%A9</td>\n",
              "      <td>tatiana faberg is an author and faberg scholar...</td>\n",
              "    </tr>\n",
              "    <tr>\n",
              "      <th>42785</th>\n",
              "      <td>Kenneth Thomas</td>\n",
              "      <td>kenneth thomas born february 24 1938 was chief...</td>\n",
              "    </tr>\n",
              "  </tbody>\n",
              "</table>\n",
              "<p>42786 rows × 2 columns</p>\n",
              "</div>\n",
              "      <button class=\"colab-df-convert\" onclick=\"convertToInteractive('df-0b4a856f-0328-4d54-9e6d-84e82d932411')\"\n",
              "              title=\"Convert this dataframe to an interactive table.\"\n",
              "              style=\"display:none;\">\n",
              "        \n",
              "  <svg xmlns=\"http://www.w3.org/2000/svg\" height=\"24px\"viewBox=\"0 0 24 24\"\n",
              "       width=\"24px\">\n",
              "    <path d=\"M0 0h24v24H0V0z\" fill=\"none\"/>\n",
              "    <path d=\"M18.56 5.44l.94 2.06.94-2.06 2.06-.94-2.06-.94-.94-2.06-.94 2.06-2.06.94zm-11 1L8.5 8.5l.94-2.06 2.06-.94-2.06-.94L8.5 2.5l-.94 2.06-2.06.94zm10 10l.94 2.06.94-2.06 2.06-.94-2.06-.94-.94-2.06-.94 2.06-2.06.94z\"/><path d=\"M17.41 7.96l-1.37-1.37c-.4-.4-.92-.59-1.43-.59-.52 0-1.04.2-1.43.59L10.3 9.45l-7.72 7.72c-.78.78-.78 2.05 0 2.83L4 21.41c.39.39.9.59 1.41.59.51 0 1.02-.2 1.41-.59l7.78-7.78 2.81-2.81c.8-.78.8-2.07 0-2.86zM5.41 20L4 18.59l7.72-7.72 1.47 1.35L5.41 20z\"/>\n",
              "  </svg>\n",
              "      </button>\n",
              "      \n",
              "  <style>\n",
              "    .colab-df-container {\n",
              "      display:flex;\n",
              "      flex-wrap:wrap;\n",
              "      gap: 12px;\n",
              "    }\n",
              "\n",
              "    .colab-df-convert {\n",
              "      background-color: #E8F0FE;\n",
              "      border: none;\n",
              "      border-radius: 50%;\n",
              "      cursor: pointer;\n",
              "      display: none;\n",
              "      fill: #1967D2;\n",
              "      height: 32px;\n",
              "      padding: 0 0 0 0;\n",
              "      width: 32px;\n",
              "    }\n",
              "\n",
              "    .colab-df-convert:hover {\n",
              "      background-color: #E2EBFA;\n",
              "      box-shadow: 0px 1px 2px rgba(60, 64, 67, 0.3), 0px 1px 3px 1px rgba(60, 64, 67, 0.15);\n",
              "      fill: #174EA6;\n",
              "    }\n",
              "\n",
              "    [theme=dark] .colab-df-convert {\n",
              "      background-color: #3B4455;\n",
              "      fill: #D2E3FC;\n",
              "    }\n",
              "\n",
              "    [theme=dark] .colab-df-convert:hover {\n",
              "      background-color: #434B5C;\n",
              "      box-shadow: 0px 1px 3px 1px rgba(0, 0, 0, 0.15);\n",
              "      filter: drop-shadow(0px 1px 2px rgba(0, 0, 0, 0.3));\n",
              "      fill: #FFFFFF;\n",
              "    }\n",
              "  </style>\n",
              "\n",
              "      <script>\n",
              "        const buttonEl =\n",
              "          document.querySelector('#df-0b4a856f-0328-4d54-9e6d-84e82d932411 button.colab-df-convert');\n",
              "        buttonEl.style.display =\n",
              "          google.colab.kernel.accessAllowed ? 'block' : 'none';\n",
              "\n",
              "        async function convertToInteractive(key) {\n",
              "          const element = document.querySelector('#df-0b4a856f-0328-4d54-9e6d-84e82d932411');\n",
              "          const dataTable =\n",
              "            await google.colab.kernel.invokeFunction('convertToInteractive',\n",
              "                                                     [key], {});\n",
              "          if (!dataTable) return;\n",
              "\n",
              "          const docLinkHtml = 'Like what you see? Visit the ' +\n",
              "            '<a target=\"_blank\" href=https://colab.research.google.com/notebooks/data_table.ipynb>data table notebook</a>'\n",
              "            + ' to learn more about interactive tables.';\n",
              "          element.innerHTML = '';\n",
              "          dataTable['output_type'] = 'display_data';\n",
              "          await google.colab.output.renderOutput(dataTable, element);\n",
              "          const docLink = document.createElement('div');\n",
              "          docLink.innerHTML = docLinkHtml;\n",
              "          element.appendChild(docLink);\n",
              "        }\n",
              "      </script>\n",
              "    </div>\n",
              "  </div>\n",
              "  "
            ]
          },
          "metadata": {},
          "execution_count": 2
        }
      ],
      "source": [
        "people"
      ]
    },
    {
      "cell_type": "code",
      "execution_count": 3,
      "id": "9a44fbb1-0cef-4c33-ad5d-7207296c0d21",
      "metadata": {
        "colab": {
          "base_uri": "https://localhost:8080/",
          "height": 504
        },
        "id": "9a44fbb1-0cef-4c33-ad5d-7207296c0d21",
        "outputId": "5cf912e8-1476-492b-dd38-4a11f50a1e81"
      },
      "outputs": [
        {
          "output_type": "stream",
          "name": "stderr",
          "text": [
            "/usr/local/lib/python3.10/dist-packages/sklearn/cluster/_kmeans.py:870: FutureWarning: The default value of `n_init` will change from 10 to 'auto' in 1.4. Set the value of `n_init` explicitly to suppress the warning\n",
            "  warnings.warn(\n"
          ]
        },
        {
          "output_type": "display_data",
          "data": {
            "text/plain": [
              "<Figure size 640x480 with 1 Axes>"
            ],
            "image/png": "[encoded data removed]"
          },
          "metadata": {}
        }
      ],
      "source": [
        "from sklearn.cluster import KMeans\n",
        "from sklearn.feature_extraction.text import TfidfVectorizer\n",
        "import matplotlib.pyplot as plt\n",
        "distortions = list()\n",
        "\n",
        "vectorizer = TfidfVectorizer(stop_words='english')\n",
        "X = vectorizer.fit_transform(people['text'])\n",
        "for i in range(1, 10):\n",
        "    km = KMeans(n_clusters=i, random_state=0)\n",
        "    km.fit(X)\n",
        "    distortions.append(km.inertia_)\n",
        "    \n",
        "plt.plot(range(1, 10), distortions, marker='o')\n",
        "plt.xlabel('Number of Clusters')\n",
        "plt.ylabel('Inertia')\n",
        "plt.show()"
      ]
    },
    {
      "cell_type": "markdown",
      "id": "6f85f3cb-cd3c-497f-bc9e-3fc86dfced15",
      "metadata": {
        "id": "6f85f3cb-cd3c-497f-bc9e-3fc86dfced15"
      },
      "source": [
        "### Chosen 6 clusters"
      ]
    },
    {
      "cell_type": "code",
      "source": [
        "!pip install --upgrade scikit-learn\n"
      ],
      "metadata": {
        "colab": {
          "base_uri": "https://localhost:8080/"
        },
        "id": "GmkALGk-PVWA",
        "outputId": "66534bc9-ab8d-4258-e6f8-a9f24e02efbe"
      },
      "id": "GmkALGk-PVWA",
      "execution_count": 7,
      "outputs": [
        {
          "output_type": "stream",
          "name": "stdout",
          "text": [
            "Looking in indexes: https://pypi.org/simple, https://us-python.pkg.dev/colab-wheels/public/simple/\n",
            "Requirement already satisfied: scikit-learn in /usr/local/lib/python3.10/dist-packages (1.2.2)\n",
            "Requirement already satisfied: numpy>=1.17.3 in /usr/local/lib/python3.10/dist-packages (from scikit-learn) (1.22.4)\n",
            "Requirement already satisfied: scipy>=1.3.2 in /usr/local/lib/python3.10/dist-packages (from scikit-learn) (1.10.1)\n",
            "Requirement already satisfied: joblib>=1.1.1 in /usr/local/lib/python3.10/dist-packages (from scikit-learn) (1.2.0)\n",
            "Requirement already satisfied: threadpoolctl>=2.0.0 in /usr/local/lib/python3.10/dist-packages (from scikit-learn) (3.1.0)\n"
          ]
        }
      ]
    },
    {
      "cell_type": "code",
      "execution_count": 8,
      "id": "116b4312-021c-42c0-87f9-f4f2ab5657af",
      "metadata": {
        "id": "116b4312-021c-42c0-87f9-f4f2ab5657af",
        "colab": {
          "base_uri": "https://localhost:8080/"
        },
        "outputId": "e5759945-55ce-4411-c614-5516dfcb1391"
      },
      "outputs": [
        {
          "output_type": "stream",
          "name": "stderr",
          "text": [
            "/usr/local/lib/python3.10/dist-packages/sklearn/cluster/_kmeans.py:870: FutureWarning: The default value of `n_init` will change from 10 to 'auto' in 1.4. Set the value of `n_init` explicitly to suppress the warning\n",
            "  warnings.warn(\n"
          ]
        }
      ],
      "source": [
        "\n",
        "import pandas as pd\n",
        "from sklearn.feature_extraction.text import TfidfVectorizer\n",
        "from sklearn.cluster import KMeans\n",
        "\n",
        "\n",
        "# vectorize text data\n",
        "vectorizer = TfidfVectorizer(stop_words='english')\n",
        "X = vectorizer.fit_transform(people['text'])\n",
        "\n",
        "# cluster data\n",
        "kmeans = KMeans(n_clusters=6, random_state=0)\n",
        "kmeans.fit(X)\n",
        "\n",
        "# get top words for each cluster\n",
        "mode_words = {}\n",
        "or_centr = kmeans.cluster_centers_.argsort()[:, ::-1]\n",
        "terms = vectorizer.get_feature_names_out()\n",
        "for i in range(6):\n",
        "    mode_words[i] = [terms[ind] for ind in or_centr[i, :15]]\n",
        "\n"
      ]
    },
    {
      "cell_type": "code",
      "execution_count": 10,
      "id": "c30db008-4bff-4071-9e28-df52e8d49cf8",
      "metadata": {
        "id": "c30db008-4bff-4071-9e28-df52e8d49cf8",
        "outputId": "701ae289-38c3-4d79-9e51-d10943f289eb",
        "colab": {
          "base_uri": "https://localhost:8080/"
        }
      },
      "outputs": [
        {
          "output_type": "stream",
          "name": "stdout",
          "text": [
            "Cluster 0 mode_words: ['party', 'election', 'served', 'minister', 'law', 'member', 'elected', 'president', 'state', 'university', 'general', 'district', 'committee', 'government', 'council']\n",
            "Cluster 1 mode_words: ['world', 'championships', 'won', 'championship', 'tour', 'team', 'olympics', 'race', 'racing', 'finished', 'champion', 'olympic', 'pga', 'event', 'marathon']\n",
            "Cluster 2 mode_words: ['league', 'season', 'played', 'football', 'team', 'coach', 'games', 'club', 'player', 'baseball', 'game', 'career', 'cup', 'seasons', 'playing']\n",
            "Cluster 3 mode_words: ['music', 'album', 'band', 'released', 'orchestra', 'jazz', 'song', 'records', 'songs', 'albums', 'new', 'recorded', 'performed', 'singer', 'solo']\n",
            "Cluster 4 mode_words: ['university', 'new', 'research', 'art', 'book', 'work', 'published', 'professor', 'american', 'books', 'york', 'born', 'award', 'science', 'school']\n",
            "Cluster 5 mode_words: ['film', 'theatre', 'television', 'films', 'series', 'award', 'actor', 'role', 'directed', 'festival', 'best', 'appeared', 'drama', 'comedy', 'actress']\n"
          ]
        }
      ],
      "source": [
        "for i in range(6):\n",
        "    print(f\"Cluster {i} mode_words: {mode_words[i]}\")"
      ]
    },
    {
      "cell_type": "markdown",
      "id": "a6cb4a36-a7c5-49c7-8959-054c3e9c7fbe",
      "metadata": {
        "id": "a6cb4a36-a7c5-49c7-8959-054c3e9c7fbe"
      },
      "source": [
        "### chosen 5 clusters"
      ]
    },
    {
      "cell_type": "code",
      "execution_count": 11,
      "id": "c0dfb0be-1b86-47fa-b1c3-4e1d4589a727",
      "metadata": {
        "id": "c0dfb0be-1b86-47fa-b1c3-4e1d4589a727"
      },
      "outputs": [],
      "source": [
        "\n",
        "    \n",
        "import pandas as pd\n",
        "from sklearn.feature_extraction.text import TfidfVectorizer\n",
        "from sklearn.cluster import KMeans\n",
        "\n",
        "\n",
        "# vectorize text data\n",
        "vectorizer = TfidfVectorizer(stop_words='english')\n",
        "X = vectorizer.fit_transform(people['text'])\n",
        "\n",
        "# cluster data\n",
        "kmeans = KMeans(n_clusters=5, random_state=0)\n",
        "kmeans.fit(X)\n",
        "\n",
        "# get top words for each cluster\n",
        "mode_words = {}\n",
        "or_centr = kmeans.cluster_centers_.argsort()[:, ::-1]\n",
        "terms = vectorizer.get_feature_names_out()\n",
        "for i in range(5):\n",
        "    mode_words[i] = [terms[ind] for ind in or_centr[i, :15]]\n",
        "\n"
      ]
    },
    {
      "cell_type": "code",
      "execution_count": 12,
      "id": "d0afbd8d-e125-4ac4-9307-95d003168c42",
      "metadata": {
        "id": "d0afbd8d-e125-4ac4-9307-95d003168c42",
        "outputId": "4acd9ca3-95b3-47ef-b7b5-3da47c162567",
        "colab": {
          "base_uri": "https://localhost:8080/"
        }
      },
      "outputs": [
        {
          "output_type": "stream",
          "name": "stdout",
          "text": [
            "Cluster 0 mode_words: ['music', 'album', 'band', 'released', 'orchestra', 'jazz', 'song', 'records', 'songs', 'albums', 'new', 'recorded', 'performed', 'singer', 'solo']\n",
            "Cluster 1 mode_words: ['league', 'season', 'team', 'played', 'football', 'coach', 'games', 'club', 'player', 'cup', 'won', 'championship', 'career', 'world', 'baseball']\n",
            "Cluster 2 mode_words: ['university', 'new', 'research', 'art', 'book', 'work', 'published', 'professor', 'american', 'born', 'international', 'york', 'school', 'books', 'award']\n",
            "Cluster 3 mode_words: ['party', 'election', 'minister', 'law', 'served', 'member', 'elected', 'state', 'president', 'district', 'committee', 'university', 'general', 'government', 'council']\n",
            "Cluster 4 mode_words: ['film', 'theatre', 'television', 'films', 'series', 'award', 'actor', 'role', 'directed', 'festival', 'best', 'appeared', 'drama', 'comedy', 'actress']\n"
          ]
        }
      ],
      "source": [
        "for i in range(5):\n",
        "    print(f\"Cluster {i} mode_words: {mode_words[i]}\")"
      ]
    },
    {
      "cell_type": "markdown",
      "source": [
        "Here If we choose 6 clusters ,we see that some words are not related in each cluster but in 5 clusters all the words match .Looks like they are in same department like pop music, research etc. Hence 5 clusters is appropriate one."
      ],
      "metadata": {
        "id": "0bKNeLCIRATb"
      },
      "id": "0bKNeLCIRATb"
    },
    {
      "cell_type": "code",
      "source": [
        "### labelling 5  clusters based on top words\n",
        "labels = {}\n",
        "labels[0] = \"Music Band\"\n",
        "labels[1] = \"Sports\"\n",
        "labels[2] = \"Education\"\n",
        "labels[3] = \"Government\"\n",
        "labels[4] = \"Movies\"\n",
        "\n",
        "# assign labels to data\n",
        "people['cluster'] = kmeans.labels_\n",
        "people['label'] = people['cluster'].apply(lambda x: labels[x])\n",
        "\n",
        "# print top words for each cluster and cluster labels\n",
        "for i in range(5):\n",
        "    print(f\"Cluster {i} : {mode_words[i]}\")\n",
        "    \n",
        "print(people[['name', 'text', 'label']])\n"
      ],
      "metadata": {
        "colab": {
          "base_uri": "https://localhost:8080/"
        },
        "id": "6Z3aPetkTcuM",
        "outputId": "8060dbcd-0dcd-403c-c476-8398da31b651"
      },
      "id": "6Z3aPetkTcuM",
      "execution_count": 23,
      "outputs": [
        {
          "output_type": "stream",
          "name": "stdout",
          "text": [
            "Cluster 0 : ['music', 'album', 'band', 'released', 'orchestra', 'jazz', 'song', 'records', 'songs', 'albums', 'new', 'recorded', 'performed', 'singer', 'solo']\n",
            "Cluster 1 : ['league', 'season', 'team', 'played', 'football', 'coach', 'games', 'club', 'player', 'cup', 'won', 'championship', 'career', 'world', 'baseball']\n",
            "Cluster 2 : ['university', 'new', 'research', 'art', 'book', 'work', 'published', 'professor', 'american', 'born', 'international', 'york', 'school', 'books', 'award']\n",
            "Cluster 3 : ['party', 'election', 'minister', 'law', 'served', 'member', 'elected', 'state', 'president', 'district', 'committee', 'university', 'general', 'government', 'council']\n",
            "Cluster 4 : ['film', 'theatre', 'television', 'films', 'series', 'award', 'actor', 'role', 'directed', 'festival', 'best', 'appeared', 'drama', 'comedy', 'actress']\n",
            "                                     name  \\\n",
            "0                           Digby Morrell   \n",
            "1                          Alfred J. Lewy   \n",
            "2                           Harpdog Brown   \n",
            "3                     Franz Rottensteiner   \n",
            "4                                  G-Enka   \n",
            "...                                   ...   \n",
            "42781                  Motoaki Takenouchi   \n",
            "42782  Alan Judge (footballer, born 1960)   \n",
            "42783                        Eduardo Lara   \n",
            "42784                Tatiana Faberg%C3%A9   \n",
            "42785                      Kenneth Thomas   \n",
            "\n",
            "                                                    text       label  \n",
            "0      digby morrell born 10 october 1979 is a former...      Sports  \n",
            "1      alfred j lewy aka sandy lewy graduated from un...   Education  \n",
            "2      harpdog brown is a singer and harmonica player...  Music Band  \n",
            "3      franz rottensteiner born in waidmannsfeld lowe...   Education  \n",
            "4      henry krvits born 30 december 1974 in tallinn ...  Music Band  \n",
            "...                                                  ...         ...  \n",
            "42781  motoaki takenouchi born july 8 1967 saitama pr...  Music Band  \n",
            "42782  alan graham judge born 14 may 1960 is a retire...      Sports  \n",
            "42783  eduardo lara lozano born 4 september 1959 in c...      Sports  \n",
            "42784  tatiana faberg is an author and faberg scholar...   Education  \n",
            "42785  kenneth thomas born february 24 1938 was chief...   Education  \n",
            "\n",
            "[42786 rows x 3 columns]\n"
          ]
        }
      ]
    },
    {
      "cell_type": "code",
      "source": [],
      "metadata": {
        "id": "bLNTi03LVcHl"
      },
      "id": "bLNTi03LVcHl",
      "execution_count": null,
      "outputs": []
    }
  ],
  "metadata": {
    "kernelspec": {
      "display_name": "Python 3 (ipykernel)",
      "language": "python",
      "name": "python3"
    },
    "language_info": {
      "codemirror_mode": {
        "name": "ipython",
        "version": 3
      },
      "file_extension": ".py",
      "mimetype": "text/x-python",
      "name": "python",
      "nbconvert_exporter": "python",
      "pygments_lexer": "ipython3",
      "version": "3.10.7"
    },
    "colab": {
      "provenance": [],
      "gpuType": "T4"
    },
    "accelerator": "GPU",
    "gpuClass": "standard"
  },
  "nbformat": 4,
  "nbformat_minor": 5
}