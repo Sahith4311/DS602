{
 "cells": [
  {
   "cell_type": "markdown",
   "metadata": {
    "id": "29i3B3DIuKPU"
   },
   "source": [
    "# Assignment Week 2 \n",
    "\n",
    "* Answer each question completely. \n",
    "* Include your code and summarize what you see in a brief narrative.\n",
    "\n",
    "__Charting:__\n",
    "Remember to make your charts as self-sufficient as possible (i.e., labels, titles, lack of clutter)  "
   ]
  },
  {
   "cell_type": "code",
   "execution_count": 32,
   "metadata": {
    "colab": {
     "base_uri": "https://localhost:8080/"
    },
    "id": "Vgr7V_XzuKPb",
    "outputId": "a9768585-2b14-4b67-8daa-46ea4f020d14"
   },
   "outputs": [
    {
     "name": "stdout",
     "output_type": "stream",
     "text": [
      "<class 'pandas.core.frame.DataFrame'>\n",
      "RangeIndex: 558837 entries, 0 to 558836\n",
      "Data columns (total 16 columns):\n",
      " #   Column        Non-Null Count   Dtype  \n",
      "---  ------        --------------   -----  \n",
      " 0   year          558837 non-null  int64  \n",
      " 1   make          548536 non-null  object \n",
      " 2   model         548438 non-null  object \n",
      " 3   trim          548186 non-null  object \n",
      " 4   body          545642 non-null  object \n",
      " 5   transmission  493484 non-null  object \n",
      " 6   vin           558833 non-null  object \n",
      " 7   state         558837 non-null  object \n",
      " 8   condition     547043 non-null  object \n",
      " 9   odometer      558743 non-null  float64\n",
      " 10  color         558088 non-null  object \n",
      " 11  interior      558088 non-null  object \n",
      " 12  seller        558837 non-null  object \n",
      " 13  mmr           558837 non-null  object \n",
      " 14  sellingprice  558837 non-null  int64  \n",
      " 15  saledate      558837 non-null  object \n",
      "dtypes: float64(1), int64(2), object(13)\n",
      "memory usage: 68.2+ MB\n"
     ]
    }
   ],
   "source": [
    "import pandas as pd\n",
    "import numpy as np\n",
    "import matplotlib.pyplot as plt\n",
    "%matplotlib inline\n",
    "\n",
    "df = pd.read_csv('https://raw.githubusercontent.com/msaricaumbc/DS_data/master/ds602/car_prices/car_prices.csv', low_memory=False)\n",
    "\n",
    "df.info()"
   ]
  },
  {
   "cell_type": "markdown",
   "metadata": {
    "id": "bzeU1HG9uKPf"
   },
   "source": [
    "# Data Description:\n",
    "- year: year the car was built (e.g., the model year)  \n",
    "- make: the manufacturer. \n",
    "- model: specific model of the car  \n",
    "- trim: subtype of the car model. \n",
    "- body: body style of the car. \n",
    "- transmission: type of transmission  \n",
    "- state: state car is registered. \n",
    "- condition: numerical rating of the condition, higher is better.  \n",
    "- odometer: number of miles the car has been driven.   \n",
    "- color: color of the car.  \n",
    "- interior: type of interior (e.g., seats). \n",
    "- mmr: estimated wholesale price of the car if auctioned.  \n",
    "- sellingprice: actual sales price of the car."
   ]
  },
  {
   "cell_type": "markdown",
   "metadata": {
    "id": "scaKheYtuKP1"
   },
   "source": [
    "## Question 1. Determine the number of missing values in each column."
   ]
  },
  {
   "cell_type": "code",
   "execution_count": 33,
   "metadata": {
    "colab": {
     "base_uri": "https://localhost:8080/"
    },
    "id": "31HdrcTbuKP2",
    "outputId": "9daef4c7-4d54-479b-b1a4-1a3c92837b14"
   },
   "outputs": [
    {
     "data": {
      "text/plain": [
       "year                0\n",
       "make            10301\n",
       "model           10399\n",
       "trim            10651\n",
       "body            13195\n",
       "transmission    65353\n",
       "vin                 4\n",
       "state               0\n",
       "condition       11794\n",
       "odometer           94\n",
       "color             749\n",
       "interior          749\n",
       "seller              0\n",
       "mmr                 0\n",
       "sellingprice        0\n",
       "saledate            0\n",
       "dtype: int64"
      ]
     },
     "execution_count": 33,
     "metadata": {},
     "output_type": "execute_result"
    }
   ],
   "source": [
    "df.isnull().sum()"
   ]
  },
  {
   "cell_type": "markdown",
   "metadata": {
    "id": "RV0Tr8WwuKP3"
   },
   "source": [
    "The feature `year`, `state`, `seller`, `mmr`, `sellingprice` and the `saledate` don't have any missing values remaining all have it. The feature `vin` has only 4 missing values"
   ]
  },
  {
   "cell_type": "markdown",
   "metadata": {
    "id": "oUPIypMpuKP4"
   },
   "source": [
    "## Question 2. Check the data types.\n",
    "- Which columns are coded to the incorrect type? If any, correct them."
   ]
  },
  {
   "cell_type": "code",
   "execution_count": 34,
   "metadata": {
    "colab": {
     "base_uri": "https://localhost:8080/",
     "height": 597
    },
    "id": "7eXy8euSuKP5",
    "outputId": "0338bd33-53df-4e27-eb81-fc9c8dc65a89"
   },
   "outputs": [
    {
     "data": {
      "text/html": [
       "<div>\n",
       "<style scoped>\n",
       "    .dataframe tbody tr th:only-of-type {\n",
       "        vertical-align: middle;\n",
       "    }\n",
       "\n",
       "    .dataframe tbody tr th {\n",
       "        vertical-align: top;\n",
       "    }\n",
       "\n",
       "    .dataframe thead th {\n",
       "        text-align: right;\n",
       "    }\n",
       "</style>\n",
       "<table border=\"1\" class=\"dataframe\">\n",
       "  <thead>\n",
       "    <tr style=\"text-align: right;\">\n",
       "      <th></th>\n",
       "      <th>year</th>\n",
       "      <th>make</th>\n",
       "      <th>model</th>\n",
       "      <th>trim</th>\n",
       "      <th>body</th>\n",
       "      <th>transmission</th>\n",
       "      <th>vin</th>\n",
       "      <th>state</th>\n",
       "      <th>condition</th>\n",
       "      <th>odometer</th>\n",
       "      <th>color</th>\n",
       "      <th>interior</th>\n",
       "      <th>seller</th>\n",
       "      <th>mmr</th>\n",
       "      <th>sellingprice</th>\n",
       "      <th>saledate</th>\n",
       "    </tr>\n",
       "  </thead>\n",
       "  <tbody>\n",
       "    <tr>\n",
       "      <th>0</th>\n",
       "      <td>2015</td>\n",
       "      <td>Kia</td>\n",
       "      <td>Sorento</td>\n",
       "      <td>LX</td>\n",
       "      <td>SUV</td>\n",
       "      <td>automatic</td>\n",
       "      <td>5xyktca69fg566472</td>\n",
       "      <td>ca</td>\n",
       "      <td>5</td>\n",
       "      <td>16639.0</td>\n",
       "      <td>white</td>\n",
       "      <td>black</td>\n",
       "      <td>kia motors america, inc</td>\n",
       "      <td>20500</td>\n",
       "      <td>21500</td>\n",
       "      <td>Tue Dec 16 2014 12:30:00 GMT-0800 (PST)</td>\n",
       "    </tr>\n",
       "    <tr>\n",
       "      <th>1</th>\n",
       "      <td>2015</td>\n",
       "      <td>Kia</td>\n",
       "      <td>Sorento</td>\n",
       "      <td>LX</td>\n",
       "      <td>SUV</td>\n",
       "      <td>automatic</td>\n",
       "      <td>5xyktca69fg561319</td>\n",
       "      <td>ca</td>\n",
       "      <td>5</td>\n",
       "      <td>9393.0</td>\n",
       "      <td>white</td>\n",
       "      <td>beige</td>\n",
       "      <td>kia motors america, inc</td>\n",
       "      <td>20800</td>\n",
       "      <td>21500</td>\n",
       "      <td>Tue Dec 16 2014 12:30:00 GMT-0800 (PST)</td>\n",
       "    </tr>\n",
       "    <tr>\n",
       "      <th>2</th>\n",
       "      <td>2014</td>\n",
       "      <td>BMW</td>\n",
       "      <td>3 Series</td>\n",
       "      <td>328i SULEV</td>\n",
       "      <td>Sedan</td>\n",
       "      <td>automatic</td>\n",
       "      <td>wba3c1c51ek116351</td>\n",
       "      <td>ca</td>\n",
       "      <td>4.5</td>\n",
       "      <td>1331.0</td>\n",
       "      <td>gray</td>\n",
       "      <td>black</td>\n",
       "      <td>financial services remarketing (lease)</td>\n",
       "      <td>31900</td>\n",
       "      <td>30000</td>\n",
       "      <td>Thu Jan 15 2015 04:30:00 GMT-0800 (PST)</td>\n",
       "    </tr>\n",
       "    <tr>\n",
       "      <th>3</th>\n",
       "      <td>2015</td>\n",
       "      <td>Volvo</td>\n",
       "      <td>S60</td>\n",
       "      <td>T5</td>\n",
       "      <td>Sedan</td>\n",
       "      <td>automatic</td>\n",
       "      <td>yv1612tb4f1310987</td>\n",
       "      <td>ca</td>\n",
       "      <td>4.1</td>\n",
       "      <td>14282.0</td>\n",
       "      <td>white</td>\n",
       "      <td>black</td>\n",
       "      <td>volvo na rep/world omni</td>\n",
       "      <td>27500</td>\n",
       "      <td>27750</td>\n",
       "      <td>Thu Jan 29 2015 04:30:00 GMT-0800 (PST)</td>\n",
       "    </tr>\n",
       "    <tr>\n",
       "      <th>4</th>\n",
       "      <td>2014</td>\n",
       "      <td>BMW</td>\n",
       "      <td>6 Series Gran Coupe</td>\n",
       "      <td>650i</td>\n",
       "      <td>Sedan</td>\n",
       "      <td>automatic</td>\n",
       "      <td>wba6b2c57ed129731</td>\n",
       "      <td>ca</td>\n",
       "      <td>4.3</td>\n",
       "      <td>2641.0</td>\n",
       "      <td>gray</td>\n",
       "      <td>black</td>\n",
       "      <td>financial services remarketing (lease)</td>\n",
       "      <td>66000</td>\n",
       "      <td>67000</td>\n",
       "      <td>Thu Dec 18 2014 12:30:00 GMT-0800 (PST)</td>\n",
       "    </tr>\n",
       "  </tbody>\n",
       "</table>\n",
       "</div>"
      ],
      "text/plain": [
       "   year   make                model        trim   body transmission  \\\n",
       "0  2015    Kia              Sorento          LX    SUV    automatic   \n",
       "1  2015    Kia              Sorento          LX    SUV    automatic   \n",
       "2  2014    BMW             3 Series  328i SULEV  Sedan    automatic   \n",
       "3  2015  Volvo                  S60          T5  Sedan    automatic   \n",
       "4  2014    BMW  6 Series Gran Coupe        650i  Sedan    automatic   \n",
       "\n",
       "                 vin state condition  odometer  color interior  \\\n",
       "0  5xyktca69fg566472    ca         5   16639.0  white    black   \n",
       "1  5xyktca69fg561319    ca         5    9393.0  white    beige   \n",
       "2  wba3c1c51ek116351    ca       4.5    1331.0   gray    black   \n",
       "3  yv1612tb4f1310987    ca       4.1   14282.0  white    black   \n",
       "4  wba6b2c57ed129731    ca       4.3    2641.0   gray    black   \n",
       "\n",
       "                                   seller    mmr  sellingprice  \\\n",
       "0                 kia motors america, inc  20500         21500   \n",
       "1                 kia motors america, inc  20800         21500   \n",
       "2  financial services remarketing (lease)  31900         30000   \n",
       "3                 volvo na rep/world omni  27500         27750   \n",
       "4  financial services remarketing (lease)  66000         67000   \n",
       "\n",
       "                                  saledate  \n",
       "0  Tue Dec 16 2014 12:30:00 GMT-0800 (PST)  \n",
       "1  Tue Dec 16 2014 12:30:00 GMT-0800 (PST)  \n",
       "2  Thu Jan 15 2015 04:30:00 GMT-0800 (PST)  \n",
       "3  Thu Jan 29 2015 04:30:00 GMT-0800 (PST)  \n",
       "4  Thu Dec 18 2014 12:30:00 GMT-0800 (PST)  "
      ]
     },
     "execution_count": 34,
     "metadata": {},
     "output_type": "execute_result"
    }
   ],
   "source": [
    "# First cheking few rows of the dataset\n",
    "df.head()"
   ]
  },
  {
   "cell_type": "code",
   "execution_count": 35,
   "metadata": {
    "id": "ZtD8WtT63YTj"
   },
   "outputs": [],
   "source": [
    "# As some of the rows of `saledate` are already present in datetime format, I won't be changing them\n",
    "for i in range(len(df)):\n",
    "  try:\n",
    "    df.loc['saledate', i] = pd.to_datetime(df.iloc['saledate', i])\n",
    "  except:\n",
    "    pass"
   ]
  },
  {
   "cell_type": "code",
   "execution_count": 36,
   "metadata": {
    "colab": {
     "base_uri": "https://localhost:8080/"
    },
    "id": "ah5aLGv95Xqz",
    "outputId": "9e6da93e-498b-44dc-87c0-d62bd877b5f7"
   },
   "outputs": [
    {
     "data": {
      "text/plain": [
       "array(['5', '4.5', '4.1', '4.3', '1', '3.4', '2', '4.2', '3', '4.8', nan,\n",
       "       '4.9', '1.7', '1.9', '2.9', '3.8', '4.4', '4.7', '3.2', '4', '2.5',\n",
       "       '3.7', '3.9', '3.1', '2.8', '4.6', '3.6', '3.5', '2.6', '2.1',\n",
       "       '2.2', '2.7', '2.4', '3.3', '2.3', '1.5', '1.6', '1.8', '1.2',\n",
       "       '1.4', '1.1', '1.3', 'oh', 'ms', 'co', 'fl', 'sc', 'ca', 'pa',\n",
       "       'in', 'va', 'ga', 'wi', 'tx'], dtype=object)"
      ]
     },
     "execution_count": 36,
     "metadata": {},
     "output_type": "execute_result"
    }
   ],
   "source": [
    "# The unique values in `condition` column\n",
    "df['condition'].unique()"
   ]
  },
  {
   "cell_type": "markdown",
   "metadata": {
    "id": "EIxvGY8Z5kfE"
   },
   "source": [
    "There are some value in the `condition` column which are not float values. So, I will remove such rows."
   ]
  },
  {
   "cell_type": "code",
   "execution_count": 37,
   "metadata": {
    "id": "bXIde9hF5ffL"
   },
   "outputs": [],
   "source": [
    "values_to_remove = [np.nan, 'oh', 'ms', 'co', 'fl', 'sc', 'ca', 'pa', 'in', 'va', 'ga', 'wi', 'tx']\n",
    "df = df[~df['condition'].isin(values_to_remove)]"
   ]
  },
  {
   "cell_type": "code",
   "execution_count": 38,
   "metadata": {
    "id": "WV5WUgxowDnO"
   },
   "outputs": [],
   "source": [
    "# Correcting the data types of remaining column\n",
    "df['mmr'] = df['mmr'].astype(int)\n",
    "df['condition'] = df['condition'].astype(float)"
   ]
  },
  {
   "cell_type": "code",
   "execution_count": 39,
   "metadata": {},
   "outputs": [
    {
     "data": {
      "text/plain": [
       "year              int64\n",
       "make             object\n",
       "model            object\n",
       "trim             object\n",
       "body             object\n",
       "transmission     object\n",
       "vin              object\n",
       "state            object\n",
       "condition       float64\n",
       "odometer        float64\n",
       "color            object\n",
       "interior         object\n",
       "seller           object\n",
       "mmr               int32\n",
       "sellingprice      int64\n",
       "saledate         object\n",
       "dtype: object"
      ]
     },
     "execution_count": 39,
     "metadata": {},
     "output_type": "execute_result"
    }
   ],
   "source": [
    "df.dtypes"
   ]
  },
  {
   "cell_type": "markdown",
   "metadata": {
    "id": "SUzvzHcxuKP6"
   },
   "source": [
    "The `saledate` should be date,  `condition` should be float, `mmr` and should be interger data type. So, I have corrected them accordingly."
   ]
  },
  {
   "cell_type": "markdown",
   "metadata": {
    "id": "YDxgslXPuKP7"
   },
   "source": [
    "## Question 3. Analyze the `make` column.\n",
    "- Comment on what you observe.  \n",
    "- Clean the column to reduce the number of unique values to as few as reasonably possible (no hard coding). \n",
    "\n",
    "Hint: What do you notice if you run this:\n",
    "```python\n",
    "makes = df.make.unique().tolist()\n",
    "makes = [str(x).lower() for x in makes]\n",
    "sorted(makes)\n",
    "```"
   ]
  },
  {
   "cell_type": "code",
   "execution_count": 40,
   "metadata": {
    "colab": {
     "base_uri": "https://localhost:8080/"
    },
    "id": "pRqKguVUuKP8",
    "outputId": "8af0e9a3-6f75-490e-8dbf-d9131e9fe6e9"
   },
   "outputs": [
    {
     "data": {
      "text/plain": [
       "['acura',\n",
       " 'acura',\n",
       " 'airstream',\n",
       " 'aston martin',\n",
       " 'audi',\n",
       " 'audi',\n",
       " 'bentley',\n",
       " 'bmw',\n",
       " 'bmw',\n",
       " 'buick',\n",
       " 'buick',\n",
       " 'cadillac',\n",
       " 'cadillac',\n",
       " 'chevrolet',\n",
       " 'chevrolet',\n",
       " 'chrysler',\n",
       " 'chrysler',\n",
       " 'daewoo',\n",
       " 'dodge',\n",
       " 'dodge',\n",
       " 'dodge tk',\n",
       " 'dot',\n",
       " 'ferrari',\n",
       " 'fiat',\n",
       " 'fisker',\n",
       " 'ford',\n",
       " 'ford',\n",
       " 'ford tk',\n",
       " 'ford truck',\n",
       " 'geo',\n",
       " 'gmc',\n",
       " 'gmc',\n",
       " 'gmc truck',\n",
       " 'honda',\n",
       " 'honda',\n",
       " 'hummer',\n",
       " 'hyundai',\n",
       " 'hyundai',\n",
       " 'infiniti',\n",
       " 'isuzu',\n",
       " 'jaguar',\n",
       " 'jeep',\n",
       " 'jeep',\n",
       " 'kia',\n",
       " 'kia',\n",
       " 'lamborghini',\n",
       " 'land rover',\n",
       " 'land rover',\n",
       " 'landrover',\n",
       " 'lexus',\n",
       " 'lexus',\n",
       " 'lincoln',\n",
       " 'lincoln',\n",
       " 'lotus',\n",
       " 'maserati',\n",
       " 'maserati',\n",
       " 'mazda',\n",
       " 'mazda',\n",
       " 'mercedes',\n",
       " 'mercedes-b',\n",
       " 'mercedes-benz',\n",
       " 'mercury',\n",
       " 'mercury',\n",
       " 'mini',\n",
       " 'mitsubishi',\n",
       " 'mitsubishi',\n",
       " 'nan',\n",
       " 'nissan',\n",
       " 'nissan',\n",
       " 'oldsmobile',\n",
       " 'oldsmobile',\n",
       " 'plymouth',\n",
       " 'plymouth',\n",
       " 'pontiac',\n",
       " 'pontiac',\n",
       " 'porsche',\n",
       " 'porsche',\n",
       " 'ram',\n",
       " 'rolls-royce',\n",
       " 'saab',\n",
       " 'saturn',\n",
       " 'scion',\n",
       " 'smart',\n",
       " 'subaru',\n",
       " 'subaru',\n",
       " 'suzuki',\n",
       " 'suzuki',\n",
       " 'tesla',\n",
       " 'toyota',\n",
       " 'toyota',\n",
       " 'volkswagen',\n",
       " 'volkswagen',\n",
       " 'volvo',\n",
       " 'vw']"
      ]
     },
     "execution_count": 40,
     "metadata": {},
     "output_type": "execute_result"
    }
   ],
   "source": [
    "makes = df.make.unique().tolist()\n",
    "makes = [str(x).lower() for x in makes]\n",
    "sorted(makes)"
   ]
  },
  {
   "cell_type": "markdown",
   "metadata": {},
   "source": [
    "There are company names which are duplicated with difference of lower case and upper case. So, we have to convert all to lowercase or uppercase."
   ]
  },
  {
   "cell_type": "code",
   "execution_count": 41,
   "metadata": {},
   "outputs": [],
   "source": [
    "df['make'] = df['make'].str.lower()\n"
   ]
  },
  {
   "cell_type": "code",
   "execution_count": 42,
   "metadata": {},
   "outputs": [
    {
     "data": {
      "text/plain": [
       "array(['kia', 'bmw', 'volvo', 'nissan', 'chevrolet', 'audi', 'ford',\n",
       "       'buick', 'cadillac', 'acura', 'lexus', 'hyundai', 'infiniti',\n",
       "       'jeep', 'mercedes-benz', 'mitsubishi', 'mazda', 'mini',\n",
       "       'land rover', 'lincoln', 'jaguar', 'volkswagen', 'toyota',\n",
       "       'subaru', 'scion', 'porsche', nan, 'dodge', 'fiat', 'chrysler',\n",
       "       'ferrari', 'honda', 'gmc', 'ram', 'smart', 'bentley', 'pontiac',\n",
       "       'saturn', 'maserati', 'mercury', 'hummer', 'landrover', 'mercedes',\n",
       "       'saab', 'suzuki', 'oldsmobile', 'dodge tk', 'geo', 'rolls-royce',\n",
       "       'isuzu', 'ford tk', 'plymouth', 'vw', 'ford truck', 'tesla',\n",
       "       'airstream', 'dot', 'gmc truck', 'aston martin', 'mercedes-b',\n",
       "       'fisker', 'daewoo', 'lamborghini', 'lotus'], dtype=object)"
      ]
     },
     "execution_count": 42,
     "metadata": {},
     "output_type": "execute_result"
    }
   ],
   "source": [
    "unique_values = df['make'].unique()\n",
    "unique_values"
   ]
  },
  {
   "cell_type": "markdown",
   "metadata": {
    "id": "7YjyKQ9huKP9"
   },
   "source": [
    "There are too many unique values, but which one to choose depends upon its count, so I will first see their count and then decide which one to choose."
   ]
  },
  {
   "cell_type": "code",
   "execution_count": 43,
   "metadata": {
    "colab": {
     "base_uri": "https://localhost:8080/"
    },
    "id": "Cl5Hm5Cq6qZD",
    "outputId": "5865cfdf-46f7-4875-88db-ff8a95e1ab65"
   },
   "outputs": [
    {
     "data": {
      "text/plain": [
       "ford          92452\n",
       "chevrolet     59204\n",
       "nissan        53186\n",
       "toyota        39079\n",
       "dodge         30308\n",
       "              ...  \n",
       "dodge tk          1\n",
       "airstream         1\n",
       "dot               1\n",
       "mercedes-b        1\n",
       "lotus             1\n",
       "Name: make, Length: 63, dtype: int64"
      ]
     },
     "execution_count": 43,
     "metadata": {},
     "output_type": "execute_result"
    }
   ],
   "source": [
    "df['make'].value_counts()"
   ]
  },
  {
   "cell_type": "markdown",
   "metadata": {
    "id": "aOM8qS1p7FZK"
   },
   "source": [
    "I will choose top 10 unique makes."
   ]
  },
  {
   "cell_type": "code",
   "execution_count": 44,
   "metadata": {
    "id": "hWCThR0i7DoT"
   },
   "outputs": [],
   "source": [
    "top_10_makes = df['make'].value_counts()[:10].index.to_list()\n",
    "df = df[df['make'].isin(top_10_makes)]"
   ]
  },
  {
   "cell_type": "code",
   "execution_count": 45,
   "metadata": {},
   "outputs": [
    {
     "data": {
      "text/plain": [
       "['ford',\n",
       " 'chevrolet',\n",
       " 'nissan',\n",
       " 'toyota',\n",
       " 'dodge',\n",
       " 'honda',\n",
       " 'hyundai',\n",
       " 'bmw',\n",
       " 'kia',\n",
       " 'chrysler']"
      ]
     },
     "execution_count": 45,
     "metadata": {},
     "output_type": "execute_result"
    }
   ],
   "source": [
    "top_10_makes"
   ]
  },
  {
   "cell_type": "code",
   "execution_count": 46,
   "metadata": {},
   "outputs": [
    {
     "data": {
      "text/plain": [
       "ford         92452\n",
       "chevrolet    59204\n",
       "nissan       53186\n",
       "toyota       39079\n",
       "dodge        30308\n",
       "honda        26494\n",
       "hyundai      21495\n",
       "bmw          20379\n",
       "kia          17879\n",
       "chrysler     17103\n",
       "Name: make, dtype: int64"
      ]
     },
     "execution_count": 46,
     "metadata": {},
     "output_type": "execute_result"
    }
   ],
   "source": [
    "df.make.value_counts()"
   ]
  },
  {
   "cell_type": "markdown",
   "metadata": {
    "id": "03f8-w_iuKP-"
   },
   "source": [
    "## Question 4. Analyze the relationship between the wholeprice `mmr` and the `salesprice`.\n",
    "- What is the overall correlation?  \n",
    "- What happens to the correlation as you increase the maximum selling price window (e.g., 0-10000, 0-20000,...)?\n",
    "- Create a scatter plot with the relationship.  \n",
    "- Create a graph that shows how the correlation changes."
   ]
  },
  {
   "cell_type": "code",
   "execution_count": 47,
   "metadata": {
    "colab": {
     "base_uri": "https://localhost:8080/",
     "height": 112
    },
    "id": "4eF21epLuKP_",
    "outputId": "893f345a-8479-4fe2-8d13-b516ecdba4cc"
   },
   "outputs": [
    {
     "data": {
      "text/html": [
       "<div>\n",
       "<style scoped>\n",
       "    .dataframe tbody tr th:only-of-type {\n",
       "        vertical-align: middle;\n",
       "    }\n",
       "\n",
       "    .dataframe tbody tr th {\n",
       "        vertical-align: top;\n",
       "    }\n",
       "\n",
       "    .dataframe thead th {\n",
       "        text-align: right;\n",
       "    }\n",
       "</style>\n",
       "<table border=\"1\" class=\"dataframe\">\n",
       "  <thead>\n",
       "    <tr style=\"text-align: right;\">\n",
       "      <th></th>\n",
       "      <th>mmr</th>\n",
       "      <th>sellingprice</th>\n",
       "    </tr>\n",
       "  </thead>\n",
       "  <tbody>\n",
       "    <tr>\n",
       "      <th>mmr</th>\n",
       "      <td>1.000000</td>\n",
       "      <td>0.978391</td>\n",
       "    </tr>\n",
       "    <tr>\n",
       "      <th>sellingprice</th>\n",
       "      <td>0.978391</td>\n",
       "      <td>1.000000</td>\n",
       "    </tr>\n",
       "  </tbody>\n",
       "</table>\n",
       "</div>"
      ],
      "text/plain": [
       "                   mmr  sellingprice\n",
       "mmr           1.000000      0.978391\n",
       "sellingprice  0.978391      1.000000"
      ]
     },
     "execution_count": 47,
     "metadata": {},
     "output_type": "execute_result"
    }
   ],
   "source": [
    "# What is the overall correlation?\n",
    "df[['mmr', 'sellingprice']].corr()"
   ]
  },
  {
   "cell_type": "markdown",
   "metadata": {
    "id": "7GceaIN074tS"
   },
   "source": [
    "The overall correlation is 97.8%, which is very high. It means mmr and salesprice are highly positively corelated."
   ]
  },
  {
   "cell_type": "code",
   "execution_count": 48,
   "metadata": {
    "colab": {
     "base_uri": "https://localhost:8080/",
     "height": 282
    },
    "id": "_YCQfNpc8PyP",
    "outputId": "d94c5e77-061e-48a6-a7bf-5e22b2a62ca0"
   },
   "outputs": [
    {
     "data": {
      "text/plain": [
       "<matplotlib.collections.PathCollection at 0x25bbe682d30>"
      ]
     },
     "execution_count": 48,
     "metadata": {},
     "output_type": "execute_result"
    },
    {
     "data": {
      "image/png": "[encoded data removed]",
      "text/plain": [
       "<Figure size 432x288 with 1 Axes>"
      ]
     },
     "metadata": {
      "needs_background": "light"
     },
     "output_type": "display_data"
    }
   ],
   "source": [
    "# What happens to the correlation as you increase the maximum selling price window\n",
    "# Create a scatter plot with the relationship\n",
    "plt.scatter(df['sellingprice'], df['mmr'])"
   ]
  },
  {
   "cell_type": "markdown",
   "metadata": {
    "id": "6M7b8yU59FEC"
   },
   "source": [
    "As the selling price range increases the correlation also increasing. I will confirm the understading using values."
   ]
  },
  {
   "cell_type": "code",
   "execution_count": 49,
   "metadata": {
    "colab": {
     "base_uri": "https://localhost:8080/"
    },
    "id": "a4OAkZTs8uON",
    "outputId": "b6be272a-433a-41d3-8b5f-1bcbaa4468c3"
   },
   "outputs": [
    {
     "name": "stdout",
     "output_type": "stream",
     "text": [
      "The correlation for 0-10000 is 0.87 \n",
      "\n",
      "The correlation for 0-20000 is 0.95 \n",
      "\n",
      "The correlation for 0-30000 is 0.97 \n",
      "\n",
      "The correlation for 0-40000 is 0.98 \n",
      "\n",
      "The correlation for 0-50000 is 0.98 \n",
      "\n"
     ]
    }
   ],
   "source": [
    "price_range = [10000, 20000, 30000, 40000, 50000]\n",
    "for i in price_range:\n",
    "  corr = df[df['sellingprice']<i][['sellingprice', 'mmr']].corr()['mmr'][0]\n",
    "  print(f\"The correlation for 0-{i} is {round(corr,2)} \\n\")\n"
   ]
  },
  {
   "cell_type": "code",
   "execution_count": 50,
   "metadata": {
    "colab": {
     "base_uri": "https://localhost:8080/",
     "height": 282
    },
    "id": "EWOcuAJKFwnY",
    "outputId": "d0d3153c-17d4-4d2a-9a8a-1d2d8ab65828"
   },
   "outputs": [
    {
     "data": {
      "text/plain": [
       "<matplotlib.collections.PathCollection at 0x25bb54d7f10>"
      ]
     },
     "execution_count": 50,
     "metadata": {},
     "output_type": "execute_result"
    },
    {
     "data": {
      "image/png": "[encoded data removed]",
      "text/plain": [
       "<Figure size 432x288 with 1 Axes>"
      ]
     },
     "metadata": {
      "needs_background": "light"
     },
     "output_type": "display_data"
    }
   ],
   "source": [
    "# Create a graph that shows how the correlation changes.\n",
    "price_range = range(df['sellingprice'].min(), df['sellingprice'].max(), 10000)\n",
    "corr_list = []\n",
    "for i in price_range:\n",
    "  corr = df[df['sellingprice']<i][['sellingprice', 'mmr']].corr()['mmr'][0]\n",
    "  corr_list.append(corr)\n",
    "\n",
    "plt.scatter(price_range, corr_list)"
   ]
  },
  {
   "cell_type": "markdown",
   "metadata": {
    "id": "xBh5J-tyuKQA"
   },
   "source": [
    "## Question 5. How does the distribution of `salesprice` vary by make for cars made between 2010-2015?\n",
    "- Use the 10 most common makes (your cleaned version of this column).  \n",
    "- Create a graph that answers this question."
   ]
  },
  {
   "cell_type": "code",
   "execution_count": 69,
   "metadata": {
    "colab": {
     "base_uri": "https://localhost:8080/",
     "height": 439
    },
    "id": "5cNQgayzuKQB",
    "outputId": "f600020c-d8bb-43b9-ce4b-6545c75d9f6e"
   },
   "outputs": [
    {
     "data": {
      "text/html": [
       "<div>\n",
       "<style scoped>\n",
       "    .dataframe tbody tr th:only-of-type {\n",
       "        vertical-align: middle;\n",
       "    }\n",
       "\n",
       "    .dataframe tbody tr th {\n",
       "        vertical-align: top;\n",
       "    }\n",
       "\n",
       "    .dataframe thead th {\n",
       "        text-align: right;\n",
       "    }\n",
       "</style>\n",
       "<table border=\"1\" class=\"dataframe\">\n",
       "  <thead>\n",
       "    <tr style=\"text-align: right;\">\n",
       "      <th></th>\n",
       "      <th>year</th>\n",
       "      <th>condition</th>\n",
       "      <th>odometer</th>\n",
       "      <th>mmr</th>\n",
       "      <th>sellingprice</th>\n",
       "    </tr>\n",
       "  </thead>\n",
       "  <tbody>\n",
       "    <tr>\n",
       "      <th>count</th>\n",
       "      <td>267719.000000</td>\n",
       "      <td>267719.000000</td>\n",
       "      <td>267715.000000</td>\n",
       "      <td>267719.000000</td>\n",
       "      <td>267719.000000</td>\n",
       "    </tr>\n",
       "    <tr>\n",
       "      <th>mean</th>\n",
       "      <td>2012.571577</td>\n",
       "      <td>3.738269</td>\n",
       "      <td>41450.923105</td>\n",
       "      <td>16033.446263</td>\n",
       "      <td>15855.359227</td>\n",
       "    </tr>\n",
       "    <tr>\n",
       "      <th>std</th>\n",
       "      <td>1.233254</td>\n",
       "      <td>0.827211</td>\n",
       "      <td>28851.526667</td>\n",
       "      <td>7606.648363</td>\n",
       "      <td>7769.633010</td>\n",
       "    </tr>\n",
       "    <tr>\n",
       "      <th>min</th>\n",
       "      <td>2010.000000</td>\n",
       "      <td>1.000000</td>\n",
       "      <td>1.000000</td>\n",
       "      <td>1100.000000</td>\n",
       "      <td>1.000000</td>\n",
       "    </tr>\n",
       "    <tr>\n",
       "      <th>25%</th>\n",
       "      <td>2012.000000</td>\n",
       "      <td>3.300000</td>\n",
       "      <td>21839.000000</td>\n",
       "      <td>11200.000000</td>\n",
       "      <td>11000.000000</td>\n",
       "    </tr>\n",
       "    <tr>\n",
       "      <th>50%</th>\n",
       "      <td>2013.000000</td>\n",
       "      <td>3.900000</td>\n",
       "      <td>35711.000000</td>\n",
       "      <td>14050.000000</td>\n",
       "      <td>14000.000000</td>\n",
       "    </tr>\n",
       "    <tr>\n",
       "      <th>75%</th>\n",
       "      <td>2014.000000</td>\n",
       "      <td>4.300000</td>\n",
       "      <td>54260.500000</td>\n",
       "      <td>18850.000000</td>\n",
       "      <td>18800.000000</td>\n",
       "    </tr>\n",
       "    <tr>\n",
       "      <th>max</th>\n",
       "      <td>2015.000000</td>\n",
       "      <td>5.000000</td>\n",
       "      <td>999999.000000</td>\n",
       "      <td>176000.000000</td>\n",
       "      <td>230000.000000</td>\n",
       "    </tr>\n",
       "  </tbody>\n",
       "</table>\n",
       "</div>"
      ],
      "text/plain": [
       "                year      condition       odometer            mmr  \\\n",
       "count  267719.000000  267719.000000  267715.000000  267719.000000   \n",
       "mean     2012.571577       3.738269   41450.923105   16033.446263   \n",
       "std         1.233254       0.827211   28851.526667    7606.648363   \n",
       "min      2010.000000       1.000000       1.000000    1100.000000   \n",
       "25%      2012.000000       3.300000   21839.000000   11200.000000   \n",
       "50%      2013.000000       3.900000   35711.000000   14050.000000   \n",
       "75%      2014.000000       4.300000   54260.500000   18850.000000   \n",
       "max      2015.000000       5.000000  999999.000000  176000.000000   \n",
       "\n",
       "        sellingprice  \n",
       "count  267719.000000  \n",
       "mean    15855.359227  \n",
       "std      7769.633010  \n",
       "min         1.000000  \n",
       "25%     11000.000000  \n",
       "50%     14000.000000  \n",
       "75%     18800.000000  \n",
       "max    230000.000000  "
      ]
     },
     "metadata": {},
     "output_type": "display_data"
    },
    {
     "data": {
      "image/png": "[encoded data removed]",
      "text/plain": [
       "<Figure size 432x288 with 1 Axes>"
      ]
     },
     "metadata": {
      "needs_background": "light"
     },
     "output_type": "display_data"
    },
    {
     "data": {
      "image/png": "[encoded data removed]",
      "text/plain": [
       "<Figure size 432x288 with 1 Axes>"
      ]
     },
     "metadata": {
      "needs_background": "light"
     },
     "output_type": "display_data"
    }
   ],
   "source": [
    "\n",
    "df_sale = df[df['year'].isin([2010, 2011,2012,2013,2014,2015])]\n",
    "\n",
    "df_sale.boxplot('sellingprice', 'make')\n",
    "df_sale.boxplot('sellingprice','year')\n",
    "display(df_sale.describe())"
   ]
  },
  {
   "cell_type": "markdown",
   "metadata": {
    "id": "YVEgCpY8uKQB"
   },
   "source": [
    "The mean selling price is 15,853 and the maximum selling price is 230K. "
   ]
  },
  {
   "cell_type": "markdown",
   "metadata": {},
   "source": [
    "Reference link :\n",
    "\n",
    "https://www.geeksforgeeks.org/exploring-correlation-in-python/\n",
    "\n",
    "https://developer.mozilla.org/en-US/docs/Web/JavaScript/Reference/Global_Objects/Function/apply"
   ]
  },
  {
   "cell_type": "code",
   "execution_count": null,
   "metadata": {},
   "outputs": [],
   "source": []
  }
 ],
 "metadata": {
  "colab": {
   "provenance": []
  },
  "kernelspec": {
   "display_name": "Python 3 (ipykernel)",
   "language": "python",
   "name": "python3"
  },
  "language_info": {
   "codemirror_mode": {
    "name": "ipython",
    "version": 3
   },
   "file_extension": ".py",
   "mimetype": "text/x-python",
   "name": "python",
   "nbconvert_exporter": "python",
   "pygments_lexer": "ipython3",
   "version": "3.9.12"
  },
  "toc": {
   "base_numbering": 1,
   "nav_menu": {},
   "number_sections": false,
   "sideBar": true,
   "skip_h1_title": false,
   "title_cell": "Table of Contents",
   "title_sidebar": "Contents",
   "toc_cell": false,
   "toc_position": {},
   "toc_section_display": true,
   "toc_window_display": false
  }
 },
 "nbformat": 4,
 "nbformat_minor": 1
}
