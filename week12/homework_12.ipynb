{
  "cells": [
    {
      "cell_type": "markdown",
      "id": "9a9ec15d",
      "metadata": {
        "id": "9a9ec15d"
      },
      "source": [
        "# Homework 12\n",
        "\n",
        "https://scikit-learn.org/0.15/modules/scaling_strategies.html#incremental-learning\n",
        "\n",
        "* Implement a mini batch functionality to train a regressor.\n",
        "    - (Optional) If anyone want to do this in a pipeline can do this: https://koaning.github.io/tokenwiser/api/pipeline.html\n",
        "\n",
        "* Save model, load the model again and test it on `X_test`"
      ]
    },
    {
      "cell_type": "code",
      "execution_count": 4,
      "id": "c32e5a2d",
      "metadata": {
        "id": "c32e5a2d"
      },
      "outputs": [],
      "source": [
        "import pandas as pd\n",
        "import numpy as np\n",
        "import matplotlib.pyplot as plt\n"
      ]
    },
    {
      "cell_type": "code",
      "execution_count": 5,
      "id": "5a6e0532",
      "metadata": {
        "id": "5a6e0532"
      },
      "outputs": [],
      "source": [
        "def test_df():\n",
        "    df = pd.read_csv('https://raw.githubusercontent.com/msaricaumbc/DS_data/master/ds602/car_prices/car_prices.csv', low_memory=False)\n",
        "\n",
        "    df = df.sample(5000, random_state=100).reset_index(drop=True)\n",
        "    \n",
        "    y = df['sellingprice']\n",
        "    df.drop('sellingprice', axis=1, inplace=True)\n",
        "    X = df\n",
        "    \n",
        "    return X,y\n",
        "\n",
        "def partial_df():\n",
        "    df = pd.read_csv('https://raw.githubusercontent.com/msaricaumbc/DS_data/master/ds602/car_prices/car_prices.csv', low_memory=False)\n",
        "   \n",
        "    while(True):\n",
        "        yield df.sample(100).reset_index(drop=True)\n",
        "        \n",
        "gen = partial_df()"
      ]
    },
    {
      "cell_type": "code",
      "execution_count": 6,
      "id": "325a5ad4",
      "metadata": {
        "id": "325a5ad4"
      },
      "outputs": [],
      "source": [
        "X_test, y_test = test_df()"
      ]
    },
    {
      "cell_type": "code",
      "execution_count": 7,
      "id": "45bd3434",
      "metadata": {
        "colab": {
          "base_uri": "https://localhost:8080/",
          "height": 814
        },
        "id": "45bd3434",
        "outputId": "35e084e3-b30c-4f46-8b91-4a5d398ed195"
      },
      "outputs": [
        {
          "output_type": "execute_result",
          "data": {
            "text/plain": [
              "    year           make             model           trim       body  \\\n",
              "0   2014          Honda             Civic             LX      Coupe   \n",
              "1   2012          smart            fortwo  passion coupe  Hatchback   \n",
              "2   2013  Mercedes-Benz           E-Class     E350 Sport      sedan   \n",
              "3   2009         Nissan            Sentra            2.0      sedan   \n",
              "4   2006         Nissan            Sentra           SE-R      Sedan   \n",
              "..   ...            ...               ...            ...        ...   \n",
              "95  2012          Dodge           Avenger             SE      Sedan   \n",
              "96  2012         Toyota              RAV4           Base        SUV   \n",
              "97  2011         Nissan             Rogue             SV        SUV   \n",
              "98  2014       Chrysler  Town and Country        Touring    Minivan   \n",
              "99  2013           Ford             Focus             SE      Sedan   \n",
              "\n",
              "   transmission                vin state condition  odometer   color interior  \\\n",
              "0     automatic  2hgfg3b5xeh516466    nv       4.1   10891.0    gray     gray   \n",
              "1     automatic  wmeej3ba0ck570956    wi       4.9    8944.0     red     gray   \n",
              "2     automatic  wddhf5kb9da698742    ca       3.4   49095.0   white    black   \n",
              "3     automatic  3n1ab61e89l620559    nc       2.9   93182.0   black     gray   \n",
              "4     automatic  3n1ab51d16l566115    ga       1.9  105779.0  silver    black   \n",
              "..          ...                ...   ...       ...       ...     ...      ...   \n",
              "95    automatic  1c3cdzab9cn220996    ca       4.2   20206.0   white    black   \n",
              "96    automatic  2t3zf4dv5cw124364    oh       4.3   13978.0   brown      tan   \n",
              "97    automatic  jn8as5mv2bw310124    il       3.9   44183.0       —    black   \n",
              "98    automatic  2c4rc1bg4er395540    fl         4   30306.0   white      tan   \n",
              "99    automatic  1fadp3f29dl214423    hi       2.7   32713.0   black    black   \n",
              "\n",
              "                                    seller    mmr  sellingprice  \\\n",
              "0         ahfc/honda lease trust/hvt, inc.  14550         14300   \n",
              "1         mercedes-benz financial services   6250          6000   \n",
              "2                    the hertz corporation  24600         24300   \n",
              "3                 boyd chevrolet buick gmc   4550          6100   \n",
              "4   bmw alphera/alphera financial services   2375          2100   \n",
              "..                                     ...    ...           ...   \n",
              "95    citi remarketing & recovery services  10300         10000   \n",
              "96                  nassief auto group inc  16250         16100   \n",
              "97                      nissan-infiniti lt  14650         15600   \n",
              "98                      pv holding inc/gdp  18450         20100   \n",
              "99                       avis budget group  10750         10500   \n",
              "\n",
              "                                   saledate  \n",
              "0   Fri May 22 2015 05:00:00 GMT-0700 (PDT)  \n",
              "1   Wed Jun 03 2015 03:00:00 GMT-0700 (PDT)  \n",
              "2   Tue Jun 16 2015 05:30:00 GMT-0700 (PDT)  \n",
              "3   Mon Jun 08 2015 02:00:00 GMT-0700 (PDT)  \n",
              "4   Thu Feb 26 2015 02:00:00 GMT-0800 (PST)  \n",
              "..                                      ...  \n",
              "95  Thu Feb 19 2015 04:00:00 GMT-0800 (PST)  \n",
              "96  Tue Feb 10 2015 01:30:00 GMT-0800 (PST)  \n",
              "97  Tue Jan 20 2015 02:00:00 GMT-0800 (PST)  \n",
              "98  Mon Mar 02 2015 04:30:00 GMT-0800 (PST)  \n",
              "99  Wed Feb 11 2015 06:35:00 GMT-0800 (PST)  \n",
              "\n",
              "[100 rows x 16 columns]"
            ],
            "text/html": [
              "\n",
              "  <div id=\"df-8d57ac90-3276-4473-8a62-2352fed47bbe\">\n",
              "    <div class=\"colab-df-container\">\n",
              "      <div>\n",
              "<style scoped>\n",
              "    .dataframe tbody tr th:only-of-type {\n",
              "        vertical-align: middle;\n",
              "    }\n",
              "\n",
              "    .dataframe tbody tr th {\n",
              "        vertical-align: top;\n",
              "    }\n",
              "\n",
              "    .dataframe thead th {\n",
              "        text-align: right;\n",
              "    }\n",
              "</style>\n",
              "<table border=\"1\" class=\"dataframe\">\n",
              "  <thead>\n",
              "    <tr style=\"text-align: right;\">\n",
              "      <th></th>\n",
              "      <th>year</th>\n",
              "      <th>make</th>\n",
              "      <th>model</th>\n",
              "      <th>trim</th>\n",
              "      <th>body</th>\n",
              "      <th>transmission</th>\n",
              "      <th>vin</th>\n",
              "      <th>state</th>\n",
              "      <th>condition</th>\n",
              "      <th>odometer</th>\n",
              "      <th>color</th>\n",
              "      <th>interior</th>\n",
              "      <th>seller</th>\n",
              "      <th>mmr</th>\n",
              "      <th>sellingprice</th>\n",
              "      <th>saledate</th>\n",
              "    </tr>\n",
              "  </thead>\n",
              "  <tbody>\n",
              "    <tr>\n",
              "      <th>0</th>\n",
              "      <td>2014</td>\n",
              "      <td>Honda</td>\n",
              "      <td>Civic</td>\n",
              "      <td>LX</td>\n",
              "      <td>Coupe</td>\n",
              "      <td>automatic</td>\n",
              "      <td>2hgfg3b5xeh516466</td>\n",
              "      <td>nv</td>\n",
              "      <td>4.1</td>\n",
              "      <td>10891.0</td>\n",
              "      <td>gray</td>\n",
              "      <td>gray</td>\n",
              "      <td>ahfc/honda lease trust/hvt, inc.</td>\n",
              "      <td>14550</td>\n",
              "      <td>14300</td>\n",
              "      <td>Fri May 22 2015 05:00:00 GMT-0700 (PDT)</td>\n",
              "    </tr>\n",
              "    <tr>\n",
              "      <th>1</th>\n",
              "      <td>2012</td>\n",
              "      <td>smart</td>\n",
              "      <td>fortwo</td>\n",
              "      <td>passion coupe</td>\n",
              "      <td>Hatchback</td>\n",
              "      <td>automatic</td>\n",
              "      <td>wmeej3ba0ck570956</td>\n",
              "      <td>wi</td>\n",
              "      <td>4.9</td>\n",
              "      <td>8944.0</td>\n",
              "      <td>red</td>\n",
              "      <td>gray</td>\n",
              "      <td>mercedes-benz financial services</td>\n",
              "      <td>6250</td>\n",
              "      <td>6000</td>\n",
              "      <td>Wed Jun 03 2015 03:00:00 GMT-0700 (PDT)</td>\n",
              "    </tr>\n",
              "    <tr>\n",
              "      <th>2</th>\n",
              "      <td>2013</td>\n",
              "      <td>Mercedes-Benz</td>\n",
              "      <td>E-Class</td>\n",
              "      <td>E350 Sport</td>\n",
              "      <td>sedan</td>\n",
              "      <td>automatic</td>\n",
              "      <td>wddhf5kb9da698742</td>\n",
              "      <td>ca</td>\n",
              "      <td>3.4</td>\n",
              "      <td>49095.0</td>\n",
              "      <td>white</td>\n",
              "      <td>black</td>\n",
              "      <td>the hertz corporation</td>\n",
              "      <td>24600</td>\n",
              "      <td>24300</td>\n",
              "      <td>Tue Jun 16 2015 05:30:00 GMT-0700 (PDT)</td>\n",
              "    </tr>\n",
              "    <tr>\n",
              "      <th>3</th>\n",
              "      <td>2009</td>\n",
              "      <td>Nissan</td>\n",
              "      <td>Sentra</td>\n",
              "      <td>2.0</td>\n",
              "      <td>sedan</td>\n",
              "      <td>automatic</td>\n",
              "      <td>3n1ab61e89l620559</td>\n",
              "      <td>nc</td>\n",
              "      <td>2.9</td>\n",
              "      <td>93182.0</td>\n",
              "      <td>black</td>\n",
              "      <td>gray</td>\n",
              "      <td>boyd chevrolet buick gmc</td>\n",
              "      <td>4550</td>\n",
              "      <td>6100</td>\n",
              "      <td>Mon Jun 08 2015 02:00:00 GMT-0700 (PDT)</td>\n",
              "    </tr>\n",
              "    <tr>\n",
              "      <th>4</th>\n",
              "      <td>2006</td>\n",
              "      <td>Nissan</td>\n",
              "      <td>Sentra</td>\n",
              "      <td>SE-R</td>\n",
              "      <td>Sedan</td>\n",
              "      <td>automatic</td>\n",
              "      <td>3n1ab51d16l566115</td>\n",
              "      <td>ga</td>\n",
              "      <td>1.9</td>\n",
              "      <td>105779.0</td>\n",
              "      <td>silver</td>\n",
              "      <td>black</td>\n",
              "      <td>bmw alphera/alphera financial services</td>\n",
              "      <td>2375</td>\n",
              "      <td>2100</td>\n",
              "      <td>Thu Feb 26 2015 02:00:00 GMT-0800 (PST)</td>\n",
              "    </tr>\n",
              "    <tr>\n",
              "      <th>...</th>\n",
              "      <td>...</td>\n",
              "      <td>...</td>\n",
              "      <td>...</td>\n",
              "      <td>...</td>\n",
              "      <td>...</td>\n",
              "      <td>...</td>\n",
              "      <td>...</td>\n",
              "      <td>...</td>\n",
              "      <td>...</td>\n",
              "      <td>...</td>\n",
              "      <td>...</td>\n",
              "      <td>...</td>\n",
              "      <td>...</td>\n",
              "      <td>...</td>\n",
              "      <td>...</td>\n",
              "      <td>...</td>\n",
              "    </tr>\n",
              "    <tr>\n",
              "      <th>95</th>\n",
              "      <td>2012</td>\n",
              "      <td>Dodge</td>\n",
              "      <td>Avenger</td>\n",
              "      <td>SE</td>\n",
              "      <td>Sedan</td>\n",
              "      <td>automatic</td>\n",
              "      <td>1c3cdzab9cn220996</td>\n",
              "      <td>ca</td>\n",
              "      <td>4.2</td>\n",
              "      <td>20206.0</td>\n",
              "      <td>white</td>\n",
              "      <td>black</td>\n",
              "      <td>citi remarketing &amp; recovery services</td>\n",
              "      <td>10300</td>\n",
              "      <td>10000</td>\n",
              "      <td>Thu Feb 19 2015 04:00:00 GMT-0800 (PST)</td>\n",
              "    </tr>\n",
              "    <tr>\n",
              "      <th>96</th>\n",
              "      <td>2012</td>\n",
              "      <td>Toyota</td>\n",
              "      <td>RAV4</td>\n",
              "      <td>Base</td>\n",
              "      <td>SUV</td>\n",
              "      <td>automatic</td>\n",
              "      <td>2t3zf4dv5cw124364</td>\n",
              "      <td>oh</td>\n",
              "      <td>4.3</td>\n",
              "      <td>13978.0</td>\n",
              "      <td>brown</td>\n",
              "      <td>tan</td>\n",
              "      <td>nassief auto group inc</td>\n",
              "      <td>16250</td>\n",
              "      <td>16100</td>\n",
              "      <td>Tue Feb 10 2015 01:30:00 GMT-0800 (PST)</td>\n",
              "    </tr>\n",
              "    <tr>\n",
              "      <th>97</th>\n",
              "      <td>2011</td>\n",
              "      <td>Nissan</td>\n",
              "      <td>Rogue</td>\n",
              "      <td>SV</td>\n",
              "      <td>SUV</td>\n",
              "      <td>automatic</td>\n",
              "      <td>jn8as5mv2bw310124</td>\n",
              "      <td>il</td>\n",
              "      <td>3.9</td>\n",
              "      <td>44183.0</td>\n",
              "      <td>—</td>\n",
              "      <td>black</td>\n",
              "      <td>nissan-infiniti lt</td>\n",
              "      <td>14650</td>\n",
              "      <td>15600</td>\n",
              "      <td>Tue Jan 20 2015 02:00:00 GMT-0800 (PST)</td>\n",
              "    </tr>\n",
              "    <tr>\n",
              "      <th>98</th>\n",
              "      <td>2014</td>\n",
              "      <td>Chrysler</td>\n",
              "      <td>Town and Country</td>\n",
              "      <td>Touring</td>\n",
              "      <td>Minivan</td>\n",
              "      <td>automatic</td>\n",
              "      <td>2c4rc1bg4er395540</td>\n",
              "      <td>fl</td>\n",
              "      <td>4</td>\n",
              "      <td>30306.0</td>\n",
              "      <td>white</td>\n",
              "      <td>tan</td>\n",
              "      <td>pv holding inc/gdp</td>\n",
              "      <td>18450</td>\n",
              "      <td>20100</td>\n",
              "      <td>Mon Mar 02 2015 04:30:00 GMT-0800 (PST)</td>\n",
              "    </tr>\n",
              "    <tr>\n",
              "      <th>99</th>\n",
              "      <td>2013</td>\n",
              "      <td>Ford</td>\n",
              "      <td>Focus</td>\n",
              "      <td>SE</td>\n",
              "      <td>Sedan</td>\n",
              "      <td>automatic</td>\n",
              "      <td>1fadp3f29dl214423</td>\n",
              "      <td>hi</td>\n",
              "      <td>2.7</td>\n",
              "      <td>32713.0</td>\n",
              "      <td>black</td>\n",
              "      <td>black</td>\n",
              "      <td>avis budget group</td>\n",
              "      <td>10750</td>\n",
              "      <td>10500</td>\n",
              "      <td>Wed Feb 11 2015 06:35:00 GMT-0800 (PST)</td>\n",
              "    </tr>\n",
              "  </tbody>\n",
              "</table>\n",
              "<p>100 rows × 16 columns</p>\n",
              "</div>\n",
              "      <button class=\"colab-df-convert\" onclick=\"convertToInteractive('df-8d57ac90-3276-4473-8a62-2352fed47bbe')\"\n",
              "              title=\"Convert this dataframe to an interactive table.\"\n",
              "              style=\"display:none;\">\n",
              "        \n",
              "  <svg xmlns=\"http://www.w3.org/2000/svg\" height=\"24px\"viewBox=\"0 0 24 24\"\n",
              "       width=\"24px\">\n",
              "    <path d=\"M0 0h24v24H0V0z\" fill=\"none\"/>\n",
              "    <path d=\"M18.56 5.44l.94 2.06.94-2.06 2.06-.94-2.06-.94-.94-2.06-.94 2.06-2.06.94zm-11 1L8.5 8.5l.94-2.06 2.06-.94-2.06-.94L8.5 2.5l-.94 2.06-2.06.94zm10 10l.94 2.06.94-2.06 2.06-.94-2.06-.94-.94-2.06-.94 2.06-2.06.94z\"/><path d=\"M17.41 7.96l-1.37-1.37c-.4-.4-.92-.59-1.43-.59-.52 0-1.04.2-1.43.59L10.3 9.45l-7.72 7.72c-.78.78-.78 2.05 0 2.83L4 21.41c.39.39.9.59 1.41.59.51 0 1.02-.2 1.41-.59l7.78-7.78 2.81-2.81c.8-.78.8-2.07 0-2.86zM5.41 20L4 18.59l7.72-7.72 1.47 1.35L5.41 20z\"/>\n",
              "  </svg>\n",
              "      </button>\n",
              "      \n",
              "  <style>\n",
              "    .colab-df-container {\n",
              "      display:flex;\n",
              "      flex-wrap:wrap;\n",
              "      gap: 12px;\n",
              "    }\n",
              "\n",
              "    .colab-df-convert {\n",
              "      background-color: #E8F0FE;\n",
              "      border: none;\n",
              "      border-radius: 50%;\n",
              "      cursor: pointer;\n",
              "      display: none;\n",
              "      fill: #1967D2;\n",
              "      height: 32px;\n",
              "      padding: 0 0 0 0;\n",
              "      width: 32px;\n",
              "    }\n",
              "\n",
              "    .colab-df-convert:hover {\n",
              "      background-color: #E2EBFA;\n",
              "      box-shadow: 0px 1px 2px rgba(60, 64, 67, 0.3), 0px 1px 3px 1px rgba(60, 64, 67, 0.15);\n",
              "      fill: #174EA6;\n",
              "    }\n",
              "\n",
              "    [theme=dark] .colab-df-convert {\n",
              "      background-color: #3B4455;\n",
              "      fill: #D2E3FC;\n",
              "    }\n",
              "\n",
              "    [theme=dark] .colab-df-convert:hover {\n",
              "      background-color: #434B5C;\n",
              "      box-shadow: 0px 1px 3px 1px rgba(0, 0, 0, 0.15);\n",
              "      filter: drop-shadow(0px 1px 2px rgba(0, 0, 0, 0.3));\n",
              "      fill: #FFFFFF;\n",
              "    }\n",
              "  </style>\n",
              "\n",
              "      <script>\n",
              "        const buttonEl =\n",
              "          document.querySelector('#df-8d57ac90-3276-4473-8a62-2352fed47bbe button.colab-df-convert');\n",
              "        buttonEl.style.display =\n",
              "          google.colab.kernel.accessAllowed ? 'block' : 'none';\n",
              "\n",
              "        async function convertToInteractive(key) {\n",
              "          const element = document.querySelector('#df-8d57ac90-3276-4473-8a62-2352fed47bbe');\n",
              "          const dataTable =\n",
              "            await google.colab.kernel.invokeFunction('convertToInteractive',\n",
              "                                                     [key], {});\n",
              "          if (!dataTable) return;\n",
              "\n",
              "          const docLinkHtml = 'Like what you see? Visit the ' +\n",
              "            '<a target=\"_blank\" href=https://colab.research.google.com/notebooks/data_table.ipynb>data table notebook</a>'\n",
              "            + ' to learn more about interactive tables.';\n",
              "          element.innerHTML = '';\n",
              "          dataTable['output_type'] = 'display_data';\n",
              "          await google.colab.output.renderOutput(dataTable, element);\n",
              "          const docLink = document.createElement('div');\n",
              "          docLink.innerHTML = docLinkHtml;\n",
              "          element.appendChild(docLink);\n",
              "        }\n",
              "      </script>\n",
              "    </div>\n",
              "  </div>\n",
              "  "
            ]
          },
          "metadata": {},
          "execution_count": 7
        }
      ],
      "source": [
        "# each time you call this you will get a new slice of the dataframe.\n",
        "next(gen)"
      ]
    },
    {
      "cell_type": "markdown",
      "source": [
        "# Preprocessing"
      ],
      "metadata": {
        "id": "8kujjJbACx42"
      },
      "id": "8kujjJbACx42"
    },
    {
      "cell_type": "code",
      "execution_count": 8,
      "id": "0e5128cf",
      "metadata": {
        "id": "0e5128cf"
      },
      "outputs": [],
      "source": [
        "from sklearn.linear_model import SGDRegressor\n",
        "from sklearn.pipeline import Pipeline\n",
        "from sklearn.impute import SimpleImputer\n",
        "from sklearn.preprocessing import StandardScaler, OneHotEncoder\n",
        "from sklearn.compose import ColumnTransformer\n",
        "numerical = list(X_test.select_dtypes(include='number').columns)\n",
        "categorical = list(X_test.select_dtypes(include=['object', 'category']).columns)\n"
      ]
    },
    {
      "cell_type": "code",
      "execution_count": 9,
      "id": "75c341c1",
      "metadata": {
        "id": "75c341c1"
      },
      "outputs": [],
      "source": [
        "n_pipeline = Pipeline([\n",
        "    ('imputer', SimpleImputer(strategy='median')),\n",
        "    ('scaler', StandardScaler())\n",
        "])\n"
      ]
    },
    {
      "cell_type": "code",
      "source": [
        "c_pipeline = Pipeline([\n",
        "    ('simpleimputer', SimpleImputer(strategy='most_frequent')),\n",
        "    ('onehotencoder', OneHotEncoder(drop='if_binary', handle_unknown='ignore'))\n",
        "])"
      ],
      "metadata": {
        "id": "rxuXDTxn4xt3"
      },
      "id": "rxuXDTxn4xt3",
      "execution_count": 10,
      "outputs": []
    },
    {
      "cell_type": "code",
      "source": [
        "from sklearn.compose import ColumnTransformer\n",
        "\n",
        "pipeline = ColumnTransformer([\n",
        "    ('numerical', n_pipeline, numerical),\n",
        "    ('categorical', c_pipeline, categorical)\n",
        "])\n",
        "pipeline.fit(X_test)"
      ],
      "metadata": {
        "colab": {
          "base_uri": "https://localhost:8080/",
          "height": 151
        },
        "id": "rKZnFsHv5Qo7",
        "outputId": "d28fe5bd-5196-400f-f26c-19f2e6ecdd19"
      },
      "id": "rKZnFsHv5Qo7",
      "execution_count": 11,
      "outputs": [
        {
          "output_type": "execute_result",
          "data": {
            "text/plain": [
              "ColumnTransformer(transformers=[('numerical',\n",
              "                                 Pipeline(steps=[('imputer',\n",
              "                                                  SimpleImputer(strategy='median')),\n",
              "                                                 ('scaler', StandardScaler())]),\n",
              "                                 ['year', 'odometer']),\n",
              "                                ('categorical',\n",
              "                                 Pipeline(steps=[('simpleimputer',\n",
              "                                                  SimpleImputer(strategy='most_frequent')),\n",
              "                                                 ('onehotencoder',\n",
              "                                                  OneHotEncoder(drop='if_binary',\n",
              "                                                                handle_unknown='ignore'))]),\n",
              "                                 ['make', 'model', 'trim', 'body',\n",
              "                                  'transmission', 'vin', 'state', 'condition',\n",
              "                                  'color', 'interior', 'seller', 'mmr',\n",
              "                                  'saledate'])])"
            ],
            "text/html": [
              "<style>#sk-container-id-1 {color: black;background-color: white;}#sk-container-id-1 pre{padding: 0;}#sk-container-id-1 div.sk-toggleable {background-color: white;}#sk-container-id-1 label.sk-toggleable__label {cursor: pointer;display: block;width: 100%;margin-bottom: 0;padding: 0.3em;box-sizing: border-box;text-align: center;}#sk-container-id-1 label.sk-toggleable__label-arrow:before {content: \"▸\";float: left;margin-right: 0.25em;color: #696969;}#sk-container-id-1 label.sk-toggleable__label-arrow:hover:before {color: black;}#sk-container-id-1 div.sk-estimator:hover label.sk-toggleable__label-arrow:before {color: black;}#sk-container-id-1 div.sk-toggleable__content {max-height: 0;max-width: 0;overflow: hidden;text-align: left;background-color: #f0f8ff;}#sk-container-id-1 div.sk-toggleable__content pre {margin: 0.2em;color: black;border-radius: 0.25em;background-color: #f0f8ff;}#sk-container-id-1 input.sk-toggleable__control:checked~div.sk-toggleable__content {max-height: 200px;max-width: 100%;overflow: auto;}#sk-container-id-1 input.sk-toggleable__control:checked~label.sk-toggleable__label-arrow:before {content: \"▾\";}#sk-container-id-1 div.sk-estimator input.sk-toggleable__control:checked~label.sk-toggleable__label {background-color: #d4ebff;}#sk-container-id-1 div.sk-label input.sk-toggleable__control:checked~label.sk-toggleable__label {background-color: #d4ebff;}#sk-container-id-1 input.sk-hidden--visually {border: 0;clip: rect(1px 1px 1px 1px);clip: rect(1px, 1px, 1px, 1px);height: 1px;margin: -1px;overflow: hidden;padding: 0;position: absolute;width: 1px;}#sk-container-id-1 div.sk-estimator {font-family: monospace;background-color: #f0f8ff;border: 1px dotted black;border-radius: 0.25em;box-sizing: border-box;margin-bottom: 0.5em;}#sk-container-id-1 div.sk-estimator:hover {background-color: #d4ebff;}#sk-container-id-1 div.sk-parallel-item::after {content: \"\";width: 100%;border-bottom: 1px solid gray;flex-grow: 1;}#sk-container-id-1 div.sk-label:hover label.sk-toggleable__label {background-color: #d4ebff;}#sk-container-id-1 div.sk-serial::before {content: \"\";position: absolute;border-left: 1px solid gray;box-sizing: border-box;top: 0;bottom: 0;left: 50%;z-index: 0;}#sk-container-id-1 div.sk-serial {display: flex;flex-direction: column;align-items: center;background-color: white;padding-right: 0.2em;padding-left: 0.2em;position: relative;}#sk-container-id-1 div.sk-item {position: relative;z-index: 1;}#sk-container-id-1 div.sk-parallel {display: flex;align-items: stretch;justify-content: center;background-color: white;position: relative;}#sk-container-id-1 div.sk-item::before, #sk-container-id-1 div.sk-parallel-item::before {content: \"\";position: absolute;border-left: 1px solid gray;box-sizing: border-box;top: 0;bottom: 0;left: 50%;z-index: -1;}#sk-container-id-1 div.sk-parallel-item {display: flex;flex-direction: column;z-index: 1;position: relative;background-color: white;}#sk-container-id-1 div.sk-parallel-item:first-child::after {align-self: flex-end;width: 50%;}#sk-container-id-1 div.sk-parallel-item:last-child::after {align-self: flex-start;width: 50%;}#sk-container-id-1 div.sk-parallel-item:only-child::after {width: 0;}#sk-container-id-1 div.sk-dashed-wrapped {border: 1px dashed gray;margin: 0 0.4em 0.5em 0.4em;box-sizing: border-box;padding-bottom: 0.4em;background-color: white;}#sk-container-id-1 div.sk-label label {font-family: monospace;font-weight: bold;display: inline-block;line-height: 1.2em;}#sk-container-id-1 div.sk-label-container {text-align: center;}#sk-container-id-1 div.sk-container {/* jupyter's `normalize.less` sets `[hidden] { display: none; }` but bootstrap.min.css set `[hidden] { display: none !important; }` so we also need the `!important` here to be able to override the default hidden behavior on the sphinx rendered scikit-learn.org. See: https://github.com/scikit-learn/scikit-learn/issues/21755 */display: inline-block !important;position: relative;}#sk-container-id-1 div.sk-text-repr-fallback {display: none;}</style><div id=\"sk-container-id-1\" class=\"sk-top-container\"><div class=\"sk-text-repr-fallback\"><pre>ColumnTransformer(transformers=[(&#x27;numerical&#x27;,\n",
              "                                 Pipeline(steps=[(&#x27;imputer&#x27;,\n",
              "                                                  SimpleImputer(strategy=&#x27;median&#x27;)),\n",
              "                                                 (&#x27;scaler&#x27;, StandardScaler())]),\n",
              "                                 [&#x27;year&#x27;, &#x27;odometer&#x27;]),\n",
              "                                (&#x27;categorical&#x27;,\n",
              "                                 Pipeline(steps=[(&#x27;simpleimputer&#x27;,\n",
              "                                                  SimpleImputer(strategy=&#x27;most_frequent&#x27;)),\n",
              "                                                 (&#x27;onehotencoder&#x27;,\n",
              "                                                  OneHotEncoder(drop=&#x27;if_binary&#x27;,\n",
              "                                                                handle_unknown=&#x27;ignore&#x27;))]),\n",
              "                                 [&#x27;make&#x27;, &#x27;model&#x27;, &#x27;trim&#x27;, &#x27;body&#x27;,\n",
              "                                  &#x27;transmission&#x27;, &#x27;vin&#x27;, &#x27;state&#x27;, &#x27;condition&#x27;,\n",
              "                                  &#x27;color&#x27;, &#x27;interior&#x27;, &#x27;seller&#x27;, &#x27;mmr&#x27;,\n",
              "                                  &#x27;saledate&#x27;])])</pre><b>In a Jupyter environment, please rerun this cell to show the HTML representation or trust the notebook. <br />On GitHub, the HTML representation is unable to render, please try loading this page with nbviewer.org.</b></div><div class=\"sk-container\" hidden><div class=\"sk-item sk-dashed-wrapped\"><div class=\"sk-label-container\"><div class=\"sk-label sk-toggleable\"><input class=\"sk-toggleable__control sk-hidden--visually\" id=\"sk-estimator-id-1\" type=\"checkbox\" ><label for=\"sk-estimator-id-1\" class=\"sk-toggleable__label sk-toggleable__label-arrow\">ColumnTransformer</label><div class=\"sk-toggleable__content\"><pre>ColumnTransformer(transformers=[(&#x27;numerical&#x27;,\n",
              "                                 Pipeline(steps=[(&#x27;imputer&#x27;,\n",
              "                                                  SimpleImputer(strategy=&#x27;median&#x27;)),\n",
              "                                                 (&#x27;scaler&#x27;, StandardScaler())]),\n",
              "                                 [&#x27;year&#x27;, &#x27;odometer&#x27;]),\n",
              "                                (&#x27;categorical&#x27;,\n",
              "                                 Pipeline(steps=[(&#x27;simpleimputer&#x27;,\n",
              "                                                  SimpleImputer(strategy=&#x27;most_frequent&#x27;)),\n",
              "                                                 (&#x27;onehotencoder&#x27;,\n",
              "                                                  OneHotEncoder(drop=&#x27;if_binary&#x27;,\n",
              "                                                                handle_unknown=&#x27;ignore&#x27;))]),\n",
              "                                 [&#x27;make&#x27;, &#x27;model&#x27;, &#x27;trim&#x27;, &#x27;body&#x27;,\n",
              "                                  &#x27;transmission&#x27;, &#x27;vin&#x27;, &#x27;state&#x27;, &#x27;condition&#x27;,\n",
              "                                  &#x27;color&#x27;, &#x27;interior&#x27;, &#x27;seller&#x27;, &#x27;mmr&#x27;,\n",
              "                                  &#x27;saledate&#x27;])])</pre></div></div></div><div class=\"sk-parallel\"><div class=\"sk-parallel-item\"><div class=\"sk-item\"><div class=\"sk-label-container\"><div class=\"sk-label sk-toggleable\"><input class=\"sk-toggleable__control sk-hidden--visually\" id=\"sk-estimator-id-2\" type=\"checkbox\" ><label for=\"sk-estimator-id-2\" class=\"sk-toggleable__label sk-toggleable__label-arrow\">numerical</label><div class=\"sk-toggleable__content\"><pre>[&#x27;year&#x27;, &#x27;odometer&#x27;]</pre></div></div></div><div class=\"sk-serial\"><div class=\"sk-item\"><div class=\"sk-serial\"><div class=\"sk-item\"><div class=\"sk-estimator sk-toggleable\"><input class=\"sk-toggleable__control sk-hidden--visually\" id=\"sk-estimator-id-3\" type=\"checkbox\" ><label for=\"sk-estimator-id-3\" class=\"sk-toggleable__label sk-toggleable__label-arrow\">SimpleImputer</label><div class=\"sk-toggleable__content\"><pre>SimpleImputer(strategy=&#x27;median&#x27;)</pre></div></div></div><div class=\"sk-item\"><div class=\"sk-estimator sk-toggleable\"><input class=\"sk-toggleable__control sk-hidden--visually\" id=\"sk-estimator-id-4\" type=\"checkbox\" ><label for=\"sk-estimator-id-4\" class=\"sk-toggleable__label sk-toggleable__label-arrow\">StandardScaler</label><div class=\"sk-toggleable__content\"><pre>StandardScaler()</pre></div></div></div></div></div></div></div></div><div class=\"sk-parallel-item\"><div class=\"sk-item\"><div class=\"sk-label-container\"><div class=\"sk-label sk-toggleable\"><input class=\"sk-toggleable__control sk-hidden--visually\" id=\"sk-estimator-id-5\" type=\"checkbox\" ><label for=\"sk-estimator-id-5\" class=\"sk-toggleable__label sk-toggleable__label-arrow\">categorical</label><div class=\"sk-toggleable__content\"><pre>[&#x27;make&#x27;, &#x27;model&#x27;, &#x27;trim&#x27;, &#x27;body&#x27;, &#x27;transmission&#x27;, &#x27;vin&#x27;, &#x27;state&#x27;, &#x27;condition&#x27;, &#x27;color&#x27;, &#x27;interior&#x27;, &#x27;seller&#x27;, &#x27;mmr&#x27;, &#x27;saledate&#x27;]</pre></div></div></div><div class=\"sk-serial\"><div class=\"sk-item\"><div class=\"sk-serial\"><div class=\"sk-item\"><div class=\"sk-estimator sk-toggleable\"><input class=\"sk-toggleable__control sk-hidden--visually\" id=\"sk-estimator-id-6\" type=\"checkbox\" ><label for=\"sk-estimator-id-6\" class=\"sk-toggleable__label sk-toggleable__label-arrow\">SimpleImputer</label><div class=\"sk-toggleable__content\"><pre>SimpleImputer(strategy=&#x27;most_frequent&#x27;)</pre></div></div></div><div class=\"sk-item\"><div class=\"sk-estimator sk-toggleable\"><input class=\"sk-toggleable__control sk-hidden--visually\" id=\"sk-estimator-id-7\" type=\"checkbox\" ><label for=\"sk-estimator-id-7\" class=\"sk-toggleable__label sk-toggleable__label-arrow\">OneHotEncoder</label><div class=\"sk-toggleable__content\"><pre>OneHotEncoder(drop=&#x27;if_binary&#x27;, handle_unknown=&#x27;ignore&#x27;)</pre></div></div></div></div></div></div></div></div></div></div></div></div>"
            ]
          },
          "metadata": {},
          "execution_count": 11
        }
      ]
    },
    {
      "cell_type": "markdown",
      "source": [
        "# Implement a mini batch functionality to train a regressor."
      ],
      "metadata": {
        "id": "hbCZoqH-C8CW"
      },
      "id": "hbCZoqH-C8CW"
    },
    {
      "cell_type": "code",
      "source": [
        "Regressor = SGDRegressor(loss='squared_error', random_state=100, learning_rate='constant', eta0=0.01)\n"
      ],
      "metadata": {
        "id": "i4dnT9tg5sfW"
      },
      "id": "i4dnT9tg5sfW",
      "execution_count": 12,
      "outputs": []
    },
    {
      "cell_type": "code",
      "source": [
        "import warnings\n",
        "warnings.filterwarnings(\"ignore\")\n",
        "\n",
        "total_no_of_batches = 60\n",
        "n_batches = 100\n",
        "\n",
        "for a in range(n_batches):\n",
        "    for ind in range(total_no_of_batches):\n",
        "        \n",
        "        batch_data = next(gen)\n",
        "        X_SGD = batch_data.drop('sellingprice', axis=1)\n",
        "        Y_SGD = batch_data['sellingprice']\n",
        "        X_SGD_Pre = pipeline.transform(X_SGD)\n",
        "        X_SGD_Pre = np.nan_to_num(X_SGD_Pre)\n",
        "        Regressor.partial_fit(X_SGD_Pre, Y_SGD)\n",
        "\n",
        "# regressor for predictions\n",
        "X_SGD_test = pipeline.transform(X_test)\n",
        "X_SGD_test = np.nan_to_num(X_SGD_test)\n",
        "y_prediction = Regressor.predict(X_SGD_test)\n"
      ],
      "metadata": {
        "id": "viRNkXsu6U07"
      },
      "id": "viRNkXsu6U07",
      "execution_count": 13,
      "outputs": []
    },
    {
      "cell_type": "code",
      "source": [
        "print(X_SGD_test)"
      ],
      "metadata": {
        "colab": {
          "base_uri": "https://localhost:8080/"
        },
        "id": "AneWgMgb_ETW",
        "outputId": "41cb216c-746a-4128-c6a0-ae3624324451"
      },
      "id": "AneWgMgb_ETW",
      "execution_count": 14,
      "outputs": [
        {
          "output_type": "stream",
          "name": "stdout",
          "text": [
            "  (0, 0)\t-0.4742961437221523\n",
            "  (0, 1)\t0.5629169986629211\n",
            "  (0, 8)\t1.0\n",
            "  (0, 440)\t1.0\n",
            "  (0, 810)\t1.0\n",
            "  (0, 1086)\t1.0\n",
            "  (0, 1114)\t1.0\n",
            "  (0, 2437)\t1.0\n",
            "  (0, 6146)\t1.0\n",
            "  (0, 6160)\t1.0\n",
            "  (0, 6195)\t1.0\n",
            "  (0, 6213)\t1.0\n",
            "  (0, 6564)\t1.0\n",
            "  (0, 7789)\t1.0\n",
            "  (0, 9070)\t1.0\n",
            "  (1, 0)\t0.2670232431521104\n",
            "  (1, 1)\t-0.615146664421381\n",
            "  (1, 19)\t1.0\n",
            "  (1, 228)\t1.0\n",
            "  (1, 756)\t1.0\n",
            "  (1, 1077)\t1.0\n",
            "  (1, 1114)\t1.0\n",
            "  (1, 5038)\t1.0\n",
            "  (1, 6146)\t1.0\n",
            "  (1, 6183)\t1.0\n",
            "  :\t:\n",
            "  (4998, 1087)\t1.0\n",
            "  (4998, 1114)\t1.0\n",
            "  (4998, 1444)\t1.0\n",
            "  (4998, 6142)\t1.0\n",
            "  (4998, 6189)\t1.0\n",
            "  (4998, 6207)\t1.0\n",
            "  (4998, 6213)\t1.0\n",
            "  (4998, 6792)\t1.0\n",
            "  (4998, 7889)\t1.0\n",
            "  (4998, 9398)\t1.0\n",
            "  (4999, 0)\t1.0083426300263731\n",
            "  (4999, 1)\t-0.9418176011012634\n",
            "  (4999, 8)\t1.0\n",
            "  (4999, 268)\t1.0\n",
            "  (4999, 815)\t1.0\n",
            "  (4999, 1087)\t1.0\n",
            "  (4999, 1114)\t1.0\n",
            "  (4999, 3404)\t1.0\n",
            "  (4999, 6121)\t1.0\n",
            "  (4999, 6170)\t1.0\n",
            "  (4999, 6200)\t1.0\n",
            "  (4999, 6213)\t1.0\n",
            "  (4999, 6829)\t1.0\n",
            "  (4999, 7907)\t1.0\n",
            "  (4999, 9277)\t1.0\n"
          ]
        }
      ]
    },
    {
      "cell_type": "code",
      "source": [
        "print(y_prediction)"
      ],
      "metadata": {
        "colab": {
          "base_uri": "https://localhost:8080/"
        },
        "id": "dEtus5cR_LjH",
        "outputId": "114921cf-2458-4602-b6c5-f8899671c935"
      },
      "id": "dEtus5cR_LjH",
      "execution_count": 15,
      "outputs": [
        {
          "output_type": "stream",
          "name": "stdout",
          "text": [
            "[14536.38501481 16761.60611585 13026.5627159  ... 18897.78011844\n",
            " 16604.79594297 15772.56297734]\n"
          ]
        }
      ]
    },
    {
      "cell_type": "markdown",
      "source": [
        "# Save model, load the model again and test it on X_test"
      ],
      "metadata": {
        "id": "gjORiW7DDBNf"
      },
      "id": "gjORiW7DDBNf"
    },
    {
      "cell_type": "code",
      "source": [
        "import joblib\n",
        "\n",
        "joblib.dump(Regressor, 'regressor.joblib')\n",
        "r_JOB = joblib.load('regressor.joblib')\n",
        "X_job_Test = pipeline.transform(X_test)\n",
        "y_pred = r_JOB.predict(X_job_Test)\n",
        "s = r_JOB.score(X_job_Test, y_test)\n",
        "print(\"Accuaracy of model using SGDRegressor:\", s)"
      ],
      "metadata": {
        "colab": {
          "base_uri": "https://localhost:8080/"
        },
        "id": "NcxnNpfrBRrU",
        "outputId": "fd5dc09c-0bee-4c3f-bb96-c99b6fac5a99"
      },
      "id": "NcxnNpfrBRrU",
      "execution_count": 19,
      "outputs": [
        {
          "output_type": "stream",
          "name": "stdout",
          "text": [
            "Accuaracy of model using SGDRegressor: 0.8265994351553551\n"
          ]
        }
      ]
    },
    {
      "cell_type": "markdown",
      "source": [
        "The regressor object (Regressor) is serialized and saved to a file named 'regressor.joblib' using the joblib.dump() function from the joblib library.\n",
        "The saved regressor object is then loaded from the file 'regressor.joblib' using the joblib.load() function, and the loaded object is assigned to the variable r_JOB.\n",
        "The test data (X_test) is preprocessed using the pipeline object's transform() method, and the preprocessed data is stored in X_job_Test.\n",
        "The loaded regressor (r_JOB) is used to make predictions on the preprocessed test data (X_job_Test) using the predict() method, and the predicted values are assigned to y_pred.\n",
        "The accuracy of the model is computed by calling the score() method on the loaded regressor (r_JOB) with the preprocessed test data (X_job_Test) and the ground truth labels (y_test). The resulting accuracy score is stored in the variable s.\n",
        "Finally, the accuracy score is printed as \"Accuracy of model using SGDRegressor:\" followed by the value of s."
      ],
      "metadata": {
        "id": "fq0DH2M5CRrS"
      },
      "id": "fq0DH2M5CRrS"
    },
    {
      "cell_type": "markdown",
      "source": [
        "Finally, we got an accuarcy of 82%"
      ],
      "metadata": {
        "id": "x6iaP0NICVSU"
      },
      "id": "x6iaP0NICVSU"
    }
  ],
  "metadata": {
    "kernelspec": {
      "display_name": "Python 3 (ipykernel)",
      "language": "python",
      "name": "python3"
    },
    "language_info": {
      "codemirror_mode": {
        "name": "ipython",
        "version": 3
      },
      "file_extension": ".py",
      "mimetype": "text/x-python",
      "name": "python",
      "nbconvert_exporter": "python",
      "pygments_lexer": "ipython3",
      "version": "3.8.8"
    },
    "toc": {
      "base_numbering": 1,
      "nav_menu": {},
      "number_sections": false,
      "sideBar": true,
      "skip_h1_title": false,
      "title_cell": "Table of Contents",
      "title_sidebar": "Contents",
      "toc_cell": false,
      "toc_position": {},
      "toc_section_display": true,
      "toc_window_display": false
    },
    "colab": {
      "provenance": []
    }
  },
  "nbformat": 4,
  "nbformat_minor": 5
}