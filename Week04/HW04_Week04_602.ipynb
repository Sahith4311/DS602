{
  "cells": [
    {
      "cell_type": "markdown",
      "metadata": {
        "id": "XVKly8-2rQHK"
      },
      "source": [
        "# Homework 4\n",
        "\n",
        "- Execute the below code, then answer the numbered questions."
      ]
    },
    {
      "cell_type": "code",
      "execution_count": 1,
      "metadata": {
        "id": "OjFuiwOurQHN",
        "outputId": "09d7bd7f-c210-48fb-acbc-91689a685163",
        "colab": {
          "base_uri": "https://localhost:8080/"
        }
      },
      "outputs": [
        {
          "output_type": "stream",
          "name": "stdout",
          "text": [
            "<class 'pandas.core.frame.DataFrame'>\n",
            "RangeIndex: 9055 entries, 0 to 9054\n",
            "Data columns (total 7 columns):\n",
            " #   Column         Non-Null Count  Dtype  \n",
            "---  ------         --------------  -----  \n",
            " 0   make           8164 non-null   object \n",
            " 1   transmission   8106 non-null   object \n",
            " 2   state          8152 non-null   object \n",
            " 3   condition      8173 non-null   float64\n",
            " 4   odometer       8178 non-null   float64\n",
            " 5   auction_value  8107 non-null   float64\n",
            " 6   selling_price  9055 non-null   float64\n",
            "dtypes: float64(4), object(3)\n",
            "memory usage: 495.3+ KB\n"
          ]
        }
      ],
      "source": [
        "import pandas as pd\n",
        "\n",
        "df = pd.read_csv('https://raw.githubusercontent.com/msaricaumbc/DS_data/master/ds602/regression/car-reg-data.csv')\n",
        "df.info()"
      ]
    },
    {
      "cell_type": "code",
      "execution_count": 2,
      "metadata": {
        "id": "k8OYA-lFrQHP",
        "outputId": "c83d9b0f-2af3-42ca-8844-35fb57f8c430",
        "colab": {
          "base_uri": "https://localhost:8080/"
        }
      },
      "outputs": [
        {
          "output_type": "stream",
          "name": "stdout",
          "text": [
            "Records in training data: 7,244\n",
            "Records in test data: 1,811\n",
            "\n",
            "Features:\n",
            "make\n",
            "transmission\n",
            "state\n",
            "condition\n",
            "odometer\n",
            "auction_value\n"
          ]
        }
      ],
      "source": [
        "from sklearn.model_selection import train_test_split\n",
        "features = [x for x in df.columns if x != 'selling_price']\n",
        "\n",
        "X = df[features]\n",
        "y = df['selling_price']\n",
        "\n",
        "X_train, X_test, y_train, y_test = train_test_split(X, y, test_size=0.2, random_state=100)\n",
        "\n",
        "print(f'Records in training data: {X_train.shape[0]:,}')\n",
        "print(f'Records in test data: {X_test.shape[0]:,}')\n",
        "print('\\nFeatures:')\n",
        "print(*X_train.columns, sep='\\n')"
      ]
    },
    {
      "cell_type": "markdown",
      "metadata": {
        "id": "bR8-PykvrQHP"
      },
      "source": [
        "## Question 1: Split the features into two lists, one for the numerical features and another for the categorical features."
      ]
    },
    {
      "cell_type": "code",
      "execution_count": 3,
      "metadata": {
        "id": "1CuRLJa6rQHP"
      },
      "outputs": [],
      "source": [
        "# insert code here\n",
        "numerical_features = [feature for feature in features if df.dtypes[feature] in ['float64', 'int64']]\n",
        "categorical_features = [feature for feature in features if df.dtypes[feature] in ['object']]"
      ]
    },
    {
      "cell_type": "markdown",
      "metadata": {
        "id": "SME5rN7lrQHQ"
      },
      "source": [
        "## Question 2: Using the numerical variables, create a pipeline that replaces the missing values with the median and then standardizes the values using a standard scaler."
      ]
    },
    {
      "cell_type": "code",
      "execution_count": 4,
      "metadata": {
        "id": "lg-08GqQrQHQ"
      },
      "outputs": [],
      "source": [
        "# insert code here\n",
        "from sklearn.pipeline import Pipeline\n",
        "from sklearn.impute import SimpleImputer\n",
        "from sklearn.preprocessing import StandardScaler\n",
        "\n",
        "numerical_pipeline = Pipeline([\n",
        "    ('replace_missing_values', SimpleImputer(strategy='median')),\n",
        "    ('standard_scaler', StandardScaler())\n",
        "])"
      ]
    },
    {
      "cell_type": "markdown",
      "metadata": {
        "id": "b_ENeuCirQHQ"
      },
      "source": [
        "## Question 3: Using the categorical variables, create a pipeline that replaces the missing values with the most frequent and then use one-hot encoding to convert the data to numerical arrays.\n",
        "- You should be dropping one category from each variable when using the one-hot encoder.  \n",
        "- To ensure the pipeline doesn't break when it receives new/unexpected categories, you should ignore new categories.\n",
        "- Use a fit transformer on the training dataset to validate all the columns are now numeric and to determine how many columns the transformed data contains."
      ]
    },
    {
      "cell_type": "code",
      "execution_count": 5,
      "metadata": {
        "id": "t1Vxd5MYrQHR",
        "colab": {
          "base_uri": "https://localhost:8080/"
        },
        "outputId": "a363b07a-e789-4a66-c3d4-284405105aa2"
      },
      "outputs": [
        {
          "output_type": "stream",
          "name": "stdout",
          "text": [
            "      x0_chevrolet  x0_chrysler  x0_dodge  x0_ford  x0_honda  x0_hyundai  \\\n",
            "0              0.0          0.0       0.0      0.0       0.0         0.0   \n",
            "1              0.0          1.0       0.0      0.0       0.0         0.0   \n",
            "2              0.0          0.0       0.0      1.0       0.0         0.0   \n",
            "3              0.0          0.0       0.0      0.0       1.0         0.0   \n",
            "4              0.0          0.0       0.0      0.0       0.0         1.0   \n",
            "...            ...          ...       ...      ...       ...         ...   \n",
            "9047           NaN          NaN       NaN      NaN       NaN         NaN   \n",
            "9048           NaN          NaN       NaN      NaN       NaN         NaN   \n",
            "9050           NaN          NaN       NaN      NaN       NaN         NaN   \n",
            "9053           NaN          NaN       NaN      NaN       NaN         NaN   \n",
            "9054           NaN          NaN       NaN      NaN       NaN         NaN   \n",
            "\n",
            "      x0_kia  x0_nissan  x0_toyota  x1_manual  ...  x2_sc  x2_tn  x2_tx  \\\n",
            "0        1.0        0.0        0.0        0.0  ...    0.0    0.0    0.0   \n",
            "1        0.0        0.0        0.0        0.0  ...    0.0    0.0    0.0   \n",
            "2        0.0        0.0        0.0        0.0  ...    0.0    0.0    0.0   \n",
            "3        0.0        0.0        0.0        0.0  ...    0.0    0.0    0.0   \n",
            "4        0.0        0.0        0.0        0.0  ...    0.0    0.0    0.0   \n",
            "...      ...        ...        ...        ...  ...    ...    ...    ...   \n",
            "9047     NaN        NaN        NaN        NaN  ...    NaN    NaN    NaN   \n",
            "9048     NaN        NaN        NaN        NaN  ...    NaN    NaN    NaN   \n",
            "9050     NaN        NaN        NaN        NaN  ...    NaN    NaN    NaN   \n",
            "9053     NaN        NaN        NaN        NaN  ...    NaN    NaN    NaN   \n",
            "9054     NaN        NaN        NaN        NaN  ...    NaN    NaN    NaN   \n",
            "\n",
            "      x2_ut  x2_va  x2_wa  x2_wi  condition  odometer  auction_value  \n",
            "0       0.0    0.0    0.0    1.0        4.8       NaN        14350.0  \n",
            "1       0.0    0.0    0.0    0.0        3.7   29398.0        17600.0  \n",
            "2       0.0    0.0    0.0    0.0        3.2   32180.0        19100.0  \n",
            "3       0.0    0.0    0.0    0.0        NaN       NaN            NaN  \n",
            "4       0.0    0.0    0.0    0.0        2.8   29526.0        28000.0  \n",
            "...     ...    ...    ...    ...        ...       ...            ...  \n",
            "9047    NaN    NaN    NaN    NaN        3.2  119222.0         4925.0  \n",
            "9048    NaN    NaN    NaN    NaN        3.5   16855.0            NaN  \n",
            "9050    NaN    NaN    NaN    NaN        4.2   41186.0            NaN  \n",
            "9053    NaN    NaN    NaN    NaN        4.6   33114.0        21800.0  \n",
            "9054    NaN    NaN    NaN    NaN        3.7   23776.0        28800.0  \n",
            "\n",
            "[8675 rows x 44 columns]\n",
            "44\n"
          ]
        }
      ],
      "source": [
        "# insert code here\n",
        "from sklearn.preprocessing import OneHotEncoder\n",
        "\n",
        "categorial_pipeline = Pipeline([\n",
        "    ('replace_missing_values', SimpleImputer(strategy='most_frequent')),\n",
        "    ('one_hot_encoder', OneHotEncoder(drop='first', handle_unknown='ignore'))\n",
        "])\n",
        "\n",
        "categorial_data = X_train[categorical_features]\n",
        "categorial_data_transformed = categorial_pipeline.fit_transform(categorial_data)\n",
        "\n",
        "columns = categorial_pipeline['one_hot_encoder'].get_feature_names_out()\n",
        "categorial_data_transformed = pd.DataFrame(categorial_data_transformed.toarray(), columns=columns)\n",
        "\n",
        "transformed_data = pd.concat([categorial_data_transformed, X_train[numerical_features]], axis=1)\n",
        "\n",
        "print(transformed_data)\n",
        "print(transformed_data.shape[1])\n"
      ]
    },
    {
      "cell_type": "markdown",
      "metadata": {
        "id": "EgZvTU_4rQHR"
      },
      "source": [
        "## Question 4: Combine the numerical and categorical pipelines into one data processing pipeline.\n",
        "- Use a fit transformers and the training dataset to verify the data has no missing values and the correct number of columns."
      ]
    },
    {
      "cell_type": "code",
      "execution_count": 6,
      "metadata": {
        "id": "OUBn_R9HrQHR",
        "colab": {
          "base_uri": "https://localhost:8080/"
        },
        "outputId": "a6f8d497-cd5b-4b54-e197-cfc963a7dafc"
      },
      "outputs": [
        {
          "output_type": "stream",
          "name": "stdout",
          "text": [
            "Number of missing values: 0\n",
            "Transformed data shape: (7244, 44)\n",
            "Correct number of columns: 44\n"
          ]
        }
      ],
      "source": [
        "# insert code here\n",
        "from sklearn.compose import ColumnTransformer\n",
        "\n",
        "preprocessing_pipeline = ColumnTransformer([\n",
        "    ('numerical', numerical_pipeline, numerical_features),\n",
        "    ('categorial', categorial_pipeline, categorical_features)\n",
        "])\n",
        "\n",
        "transformed_data = preprocessing_pipeline.fit_transform(X_train)\n",
        "transformed_data = pd.DataFrame(transformed_data.toarray())\n",
        "missing_values_count = transformed_data.isnull().sum().sum()\n",
        "print(f'Number of missing values: {missing_values_count}')\n",
        "print(f'Transformed data shape: {transformed_data.shape}')\n",
        "print(f'Correct number of columns: {transformed_data.shape[1]}')"
      ]
    },
    {
      "cell_type": "markdown",
      "metadata": {
        "id": "5sL6z4fdrQHR"
      },
      "source": [
        "## Question 5: Add a linear regression model to the pipeline.\n",
        "- Report what the $R^2$ is using the `test` data.  "
      ]
    },
    {
      "cell_type": "code",
      "source": [
        "# insert code here\n",
        "from sklearn.linear_model import LinearRegression\n",
        "from sklearn.metrics import r2_score\n",
        "\n",
        "model = Pipeline([\n",
        "    ('preprocessing', preprocessing_pipeline),\n",
        "    ('linear_regression', LinearRegression())\n",
        "])\n",
        "\n",
        "model.fit(X_train, y_train)\n",
        "\n",
        "y_pred = model.predict(X_test)\n",
        "\n",
        "r2 = r2_score(y_test, y_pred)\n",
        "print(f'R^2 score: {r2}')"
      ],
      "metadata": {
        "colab": {
          "base_uri": "https://localhost:8080/"
        },
        "id": "hncBBWbUXv5y",
        "outputId": "96b4d4f2-26f0-409d-dc41-d1b1873e9475"
      },
      "execution_count": 7,
      "outputs": [
        {
          "output_type": "stream",
          "name": "stdout",
          "text": [
            "R^2 score: 0.8838274420792979\n"
          ]
        }
      ]
    },
    {
      "cell_type": "markdown",
      "metadata": {
        "id": "Wy7RHofNrQHS"
      },
      "source": [
        "## Question 6: Create a plot(s) of the residuals. Do you have any concerns about patterns in the residuals that the model is neglecting to pick-up?\n",
        "- Include a sentence or two on what you observe."
      ]
    },
    {
      "cell_type": "code",
      "execution_count": 8,
      "metadata": {
        "id": "q0plHLisrQHS",
        "colab": {
          "base_uri": "https://localhost:8080/",
          "height": 295
        },
        "outputId": "ae741ce7-d203-4942-d36a-44974dc10546"
      },
      "outputs": [
        {
          "output_type": "display_data",
          "data": {
            "text/plain": [
              "<Figure size 432x288 with 1 Axes>"
            ],
            "image/png": "[encoded data removed]"
          },
          "metadata": {
            "needs_background": "light"
          }
        }
      ],
      "source": [
        "# insert code here\n",
        "import matplotlib.pyplot as plt\n",
        "\n",
        "residuals = y_test - y_pred\n",
        "plt.scatter(y_pred, residuals)\n",
        "plt.axhline(y=0, color='r', linestyle='-')\n",
        "plt.xlabel('Predicted values')\n",
        "plt.ylabel('Residuals')\n",
        "plt.title('Residual plot')\n",
        "plt.show()\n"
      ]
    },
    {
      "cell_type": "markdown",
      "metadata": {
        "id": "kNrv17-CrQHS"
      },
      "source": [
        "As visible from the plot, there are a lot of outliers around the area where the predicted value is between 10000 and 20000. It seems a non-linear model would fir better for the dataset."
      ]
    },
    {
      "cell_type": "markdown",
      "metadata": {
        "id": "bjRv-loCrQHS"
      },
      "source": [
        "## Question 7: Modify the pipeline to use a ridge regression model with an alpha value of 100. How does this change the $R^2$?"
      ]
    },
    {
      "cell_type": "code",
      "execution_count": 9,
      "metadata": {
        "id": "8jl0BxA1rQHS",
        "colab": {
          "base_uri": "https://localhost:8080/"
        },
        "outputId": "4dc6a645-7f6a-4178-befa-45ecf656648f"
      },
      "outputs": [
        {
          "output_type": "stream",
          "name": "stdout",
          "text": [
            "R^2 score: 0.8824295262289474\n"
          ]
        }
      ],
      "source": [
        "# insert code here\n",
        "from sklearn.linear_model import Ridge\n",
        "\n",
        "model = Pipeline([\n",
        "    ('preprocessing', preprocessing_pipeline),\n",
        "    ('ridge_regression', Ridge(alpha=100))\n",
        "])\n",
        "\n",
        "model.fit(X_train, y_train)\n",
        "\n",
        "y_pred = model.predict(X_test)\n",
        "\n",
        "r2 = r2_score(y_test, y_pred)\n",
        "print(f'R^2 score: {r2}')\n"
      ]
    },
    {
      "cell_type": "markdown",
      "source": [
        "The ridge model almost has the same R^2 score (slightly less) than the linear regression model."
      ],
      "metadata": {
        "id": "L0zfyOu6bFXZ"
      }
    }
  ],
  "metadata": {
    "kernelspec": {
      "display_name": "Python 3",
      "language": "python",
      "name": "python3"
    },
    "language_info": {
      "codemirror_mode": {
        "name": "ipython",
        "version": 3
      },
      "file_extension": ".py",
      "mimetype": "text/x-python",
      "name": "python",
      "nbconvert_exporter": "python",
      "pygments_lexer": "ipython3",
      "version": "3.8.8"
    },
    "toc": {
      "base_numbering": 1,
      "nav_menu": {},
      "number_sections": true,
      "sideBar": true,
      "skip_h1_title": false,
      "title_cell": "Table of Contents",
      "title_sidebar": "Contents",
      "toc_cell": false,
      "toc_position": {},
      "toc_section_display": true,
      "toc_window_display": false
    },
    "colab": {
      "provenance": []
    }
  },
  "nbformat": 4,
  "nbformat_minor": 0
}