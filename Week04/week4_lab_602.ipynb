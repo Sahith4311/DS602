{
 "cells": [
  {
   "cell_type": "markdown",
   "id": "7aa198df",
   "metadata": {
    "id": "7aa198df"
   },
   "source": [
    "# Week4 - Lab\n",
    "\n",
    "Take a look at this toy dataset. Perform the following operations\n",
    "* Train-test split\n",
    "* Train a linear regression model\n",
    "* Evaluate/create residual plots\n",
    "* Explain findings"
   ]
  },
  {
   "cell_type": "code",
   "execution_count": 1,
   "id": "6c836d17",
   "metadata": {
    "id": "6c836d17"
   },
   "outputs": [],
   "source": [
    "import pandas as pd\n",
    "import numpy as np\n",
    "import matplotlib.pyplot as plt\n",
    "import random\n",
    "\n",
    "data1 = pd.read_csv('https://raw.githubusercontent.com/msaricaumbc/DS_data/master/ds602/regression/lab4_1.csv')\n",
    "data2 = pd.read_csv('https://raw.githubusercontent.com/msaricaumbc/DS_data/master/ds602/regression/lab4_2.csv')"
   ]
  },
  {
   "cell_type": "code",
   "execution_count": 2,
   "id": "436d6c1f",
   "metadata": {
    "id": "436d6c1f"
   },
   "outputs": [
    {
     "name": "stdout",
     "output_type": "stream",
     "text": [
      "    Unnamed: 0   X    y\n",
      "0            0  50  147\n",
      "1            1  82  246\n",
      "2            2  66  207\n",
      "3            3  35  105\n",
      "4            4  81  240\n",
      "..         ...  ..  ...\n",
      "95          95  98  285\n",
      "96          96   9   18\n",
      "97          97  56  174\n",
      "98          98  50  159\n",
      "99          99  53  147\n",
      "\n",
      "[100 rows x 3 columns]\n"
     ]
    }
   ],
   "source": [
    "print(data1)"
   ]
  },
  {
   "cell_type": "code",
   "execution_count": 3,
   "id": "8528f0b5",
   "metadata": {},
   "outputs": [
    {
     "name": "stdout",
     "output_type": "stream",
     "text": [
      "    Unnamed: 0  X1 X2     y\n",
      "0            0  50  B  2510\n",
      "1            1  82  B  6738\n",
      "2            2  66  B  4355\n",
      "3            3  35  A  2225\n",
      "4            4  81  A  7560\n",
      "..         ...  .. ..   ...\n",
      "95          95  98  B  9615\n",
      "96          96   9  A  1066\n",
      "97          97  56  A  4139\n",
      "98          98  50  B  2502\n",
      "99          99  53  A  3815\n",
      "\n",
      "[100 rows x 4 columns]\n"
     ]
    }
   ],
   "source": [
    "print(data2)"
   ]
  },
  {
   "cell_type": "markdown",
   "id": "19bbde6d",
   "metadata": {},
   "source": [
    "# Train-test split"
   ]
  },
  {
   "cell_type": "code",
   "execution_count": 15,
   "id": "39e19f11",
   "metadata": {},
   "outputs": [
    {
     "name": "stdout",
     "output_type": "stream",
     "text": [
      "     X\n",
      "55  16\n",
      "88  88\n",
      "26   5\n",
      "42  33\n",
      "69  67\n",
      "..  ..\n",
      "60  58\n",
      "71  62\n",
      "14   1\n",
      "92  89\n",
      "51  11\n",
      "\n",
      "[80 rows x 1 columns]      X\n",
      "83  90\n",
      "53  31\n",
      "70  20\n",
      "45   7\n",
      "44  84\n",
      "39   5\n",
      "22   9\n",
      "80  80\n",
      "10  41\n",
      "0   50\n",
      "18  42\n",
      "30  52\n",
      "73  15\n",
      "33  52\n",
      "90   7\n",
      "4   81\n",
      "76  24\n",
      "77  54\n",
      "12  32\n",
      "31  51 55     54\n",
      "88    267\n",
      "26     12\n",
      "42     90\n",
      "69    186\n",
      "     ... \n",
      "60    165\n",
      "71    192\n",
      "14     -3\n",
      "92    267\n",
      "51     33\n",
      "Name: y, Length: 80, dtype: int64 83    276\n",
      "53     99\n",
      "70     48\n",
      "45     12\n",
      "44    243\n",
      "39      3\n",
      "22     39\n",
      "80    234\n",
      "10    114\n",
      "0     147\n",
      "18    138\n",
      "30    144\n",
      "73     51\n",
      "33    168\n",
      "90     18\n",
      "4     240\n",
      "76     75\n",
      "77    147\n",
      "12     81\n",
      "31    150\n",
      "Name: y, dtype: int64\n"
     ]
    }
   ],
   "source": [
    "from sklearn.model_selection import train_test_split\n",
    "\n",
    "X_train, X_test, y_train, y_test = train_test_split(data1[['X']], data1['y'], test_size=0.2, random_state=42)\n",
    "\n",
    "print(X_train, X_test, y_train, y_test)"
   ]
  },
  {
   "cell_type": "markdown",
   "id": "3d78d3fd",
   "metadata": {},
   "source": [
    "# Train a linear regression model"
   ]
  },
  {
   "cell_type": "code",
   "execution_count": 16,
   "id": "81f809f4",
   "metadata": {},
   "outputs": [
    {
     "data": {
      "text/plain": [
       "LinearRegression()"
      ]
     },
     "execution_count": 16,
     "metadata": {},
     "output_type": "execute_result"
    }
   ],
   "source": [
    "from sklearn.linear_model import LinearRegression\n",
    "\n",
    "linearRegression = LinearRegression()\n",
    "linearRegression.fit(X_train, y_train)"
   ]
  },
  {
   "cell_type": "markdown",
   "id": "8b7791ce",
   "metadata": {},
   "source": [
    "# Evaluate/create residual plots"
   ]
  },
  {
   "cell_type": "code",
   "execution_count": 19,
   "id": "f0d63b41",
   "metadata": {},
   "outputs": [
    {
     "data": {
      "image/png": "[encoded data removed]",
      "text/plain": [
       "<Figure size 432x288 with 1 Axes>"
      ]
     },
     "metadata": {
      "needs_background": "light"
     },
     "output_type": "display_data"
    }
   ],
   "source": [
    "y_pred = linearRegression.predict(X_test)\n",
    "PLOT = y_test - y_pred\n",
    "\n",
    "plt.scatter(X_test, PLOT)\n",
    "plt.xlabel('Input')\n",
    "plt.ylabel('Residual plot')\n",
    "plt.title('Scatter Plot')\n",
    "plt.show()"
   ]
  },
  {
   "cell_type": "markdown",
   "id": "cf019c47",
   "metadata": {},
   "source": [
    "# Explain findings"
   ]
  },
  {
   "cell_type": "markdown",
   "id": "88ea338a",
   "metadata": {},
   "source": [
    "Understanding the connections between input and output factors is possible with the help of residual plots and insights from trained models. If the residual plot displays a random spread of residuals near zero, the model is predicted objectively.\n",
    "\n",
    "If the residual plot exhibits a pronounced pattern or tendency (such as a curved shape or rising/falling residuals), this suggests that the model may not be capturing all of the pertinent information in the data and may even be an indication of overfitting. To improve the efficacy of the model in this situation, you should either collect more data or change the model's parameters.\n",
    "\n",
    "Last but not least, by completing the aforementioned steps, you can train and evaluate a linear regression model on the provided data to learn more about the relationship between the input and output variables."
   ]
  },
  {
   "cell_type": "code",
   "execution_count": null,
   "id": "5719fc35",
   "metadata": {},
   "outputs": [],
   "source": []
  }
 ],
 "metadata": {
  "colab": {
   "provenance": []
  },
  "kernelspec": {
   "display_name": "Python 3 (ipykernel)",
   "language": "python",
   "name": "python3"
  },
  "language_info": {
   "codemirror_mode": {
    "name": "ipython",
    "version": 3
   },
   "file_extension": ".py",
   "mimetype": "text/x-python",
   "name": "python",
   "nbconvert_exporter": "python",
   "pygments_lexer": "ipython3",
   "version": "3.9.12"
  },
  "toc": {
   "base_numbering": 1,
   "nav_menu": {},
   "number_sections": false,
   "sideBar": true,
   "skip_h1_title": false,
   "title_cell": "Table of Contents",
   "title_sidebar": "Contents",
   "toc_cell": false,
   "toc_position": {},
   "toc_section_display": true,
   "toc_window_display": false
  }
 },
 "nbformat": 4,
 "nbformat_minor": 5
}
